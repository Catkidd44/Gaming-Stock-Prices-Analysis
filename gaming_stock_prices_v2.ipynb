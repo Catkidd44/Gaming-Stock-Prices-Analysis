{
 "cells": [
  {
   "cell_type": "markdown",
   "id": "99a910ce",
   "metadata": {},
   "source": [
    "# Gaming Stock Price Analysis\n",
    "\n",
    "This notebook analyzes historical stock prices for major gaming companies using the `yfinance` library. The data spans from 2015 to the present."
   ]
  },
  {
   "cell_type": "markdown",
   "id": "848200ea",
   "metadata": {},
   "source": [
    "## Import Required Libraries\n",
    "We start by importing the necessary libraries:"
   ]
  },
  {
   "cell_type": "code",
   "execution_count": 1,
   "id": "5ffa1781",
   "metadata": {},
   "outputs": [],
   "source": [
    "import pandas as pd\n",
    "import yfinance as yf"
   ]
  },
  {
   "cell_type": "markdown",
   "id": "485df6fa",
   "metadata": {},
   "source": [
    "## Define Ticker Symbols\n",
    "We define the stock tickers for major gaming companies."
   ]
  },
  {
   "cell_type": "code",
   "execution_count": 2,
   "id": "95b5e417",
   "metadata": {},
   "outputs": [],
   "source": [
    "tickers = ['MGM','CZR','WYNN','PENN','DKNG','BYD']"
   ]
  },
  {
   "cell_type": "markdown",
   "id": "c8a0e1cf",
   "metadata": {},
   "source": [
    "Display the list of defined tickers:"
   ]
  },
  {
   "cell_type": "code",
   "execution_count": 3,
   "id": "8cc1c132",
   "metadata": {},
   "outputs": [
    {
     "data": {
      "text/plain": [
       "['MGM', 'CZR', 'WYNN', 'PENN', 'DKNG', 'BYD']"
      ]
     },
     "execution_count": 3,
     "metadata": {},
     "output_type": "execute_result"
    }
   ],
   "source": [
    "tickers"
   ]
  },
  {
   "cell_type": "markdown",
   "id": "d46a78d2",
   "metadata": {},
   "source": [
    "## Download Historical Stock Data\n",
    "We retrieve historical stock data for the selected tickers from Yahoo Finance, starting from 2015."
   ]
  },
  {
   "cell_type": "code",
   "execution_count": 4,
   "id": "07e6b38d",
   "metadata": {},
   "outputs": [
    {
     "name": "stdout",
     "output_type": "stream",
     "text": [
      "YF.download() has changed argument auto_adjust default to True\n"
     ]
    },
    {
     "name": "stderr",
     "output_type": "stream",
     "text": [
      "[*********************100%***********************]  6 of 6 completed\n"
     ]
    }
   ],
   "source": [
    "data = yf.download(tickers, start='2015-01-01', group_by='ticker')"
   ]
  },
  {
   "cell_type": "markdown",
   "id": "5f59b6ff",
   "metadata": {},
   "source": [
    "Display the downloaded data:"
   ]
  },
  {
   "cell_type": "code",
   "execution_count": 5,
   "id": "5276cfe7",
   "metadata": {},
   "outputs": [
    {
     "data": {
      "text/html": [
       "<div>\n",
       "<style scoped>\n",
       "    .dataframe tbody tr th:only-of-type {\n",
       "        vertical-align: middle;\n",
       "    }\n",
       "\n",
       "    .dataframe tbody tr th {\n",
       "        vertical-align: top;\n",
       "    }\n",
       "\n",
       "    .dataframe thead tr th {\n",
       "        text-align: left;\n",
       "    }\n",
       "\n",
       "    .dataframe thead tr:last-of-type th {\n",
       "        text-align: right;\n",
       "    }\n",
       "</style>\n",
       "<table border=\"1\" class=\"dataframe\">\n",
       "  <thead>\n",
       "    <tr>\n",
       "      <th>Ticker</th>\n",
       "      <th colspan=\"5\" halign=\"left\">CZR</th>\n",
       "      <th colspan=\"5\" halign=\"left\">DKNG</th>\n",
       "      <th>...</th>\n",
       "      <th colspan=\"5\" halign=\"left\">MGM</th>\n",
       "      <th colspan=\"5\" halign=\"left\">WYNN</th>\n",
       "    </tr>\n",
       "    <tr>\n",
       "      <th>Price</th>\n",
       "      <th>Open</th>\n",
       "      <th>High</th>\n",
       "      <th>Low</th>\n",
       "      <th>Close</th>\n",
       "      <th>Volume</th>\n",
       "      <th>Open</th>\n",
       "      <th>High</th>\n",
       "      <th>Low</th>\n",
       "      <th>Close</th>\n",
       "      <th>Volume</th>\n",
       "      <th>...</th>\n",
       "      <th>Open</th>\n",
       "      <th>High</th>\n",
       "      <th>Low</th>\n",
       "      <th>Close</th>\n",
       "      <th>Volume</th>\n",
       "      <th>Open</th>\n",
       "      <th>High</th>\n",
       "      <th>Low</th>\n",
       "      <th>Close</th>\n",
       "      <th>Volume</th>\n",
       "    </tr>\n",
       "    <tr>\n",
       "      <th>Date</th>\n",
       "      <th></th>\n",
       "      <th></th>\n",
       "      <th></th>\n",
       "      <th></th>\n",
       "      <th></th>\n",
       "      <th></th>\n",
       "      <th></th>\n",
       "      <th></th>\n",
       "      <th></th>\n",
       "      <th></th>\n",
       "      <th></th>\n",
       "      <th></th>\n",
       "      <th></th>\n",
       "      <th></th>\n",
       "      <th></th>\n",
       "      <th></th>\n",
       "      <th></th>\n",
       "      <th></th>\n",
       "      <th></th>\n",
       "      <th></th>\n",
       "      <th></th>\n",
       "    </tr>\n",
       "  </thead>\n",
       "  <tbody>\n",
       "    <tr>\n",
       "      <th>2015-01-02</th>\n",
       "      <td>4.240000</td>\n",
       "      <td>4.240000</td>\n",
       "      <td>3.880000</td>\n",
       "      <td>4.04</td>\n",
       "      <td>2200</td>\n",
       "      <td>NaN</td>\n",
       "      <td>NaN</td>\n",
       "      <td>NaN</td>\n",
       "      <td>NaN</td>\n",
       "      <td>NaN</td>\n",
       "      <td>...</td>\n",
       "      <td>20.136961</td>\n",
       "      <td>20.297528</td>\n",
       "      <td>19.277457</td>\n",
       "      <td>19.853609</td>\n",
       "      <td>11628200</td>\n",
       "      <td>128.349115</td>\n",
       "      <td>128.901934</td>\n",
       "      <td>122.786368</td>\n",
       "      <td>126.880692</td>\n",
       "      <td>2228900</td>\n",
       "    </tr>\n",
       "    <tr>\n",
       "      <th>2015-01-05</th>\n",
       "      <td>3.900000</td>\n",
       "      <td>4.280000</td>\n",
       "      <td>3.880000</td>\n",
       "      <td>4.25</td>\n",
       "      <td>15600</td>\n",
       "      <td>NaN</td>\n",
       "      <td>NaN</td>\n",
       "      <td>NaN</td>\n",
       "      <td>NaN</td>\n",
       "      <td>NaN</td>\n",
       "      <td>...</td>\n",
       "      <td>19.664705</td>\n",
       "      <td>19.778047</td>\n",
       "      <td>19.201895</td>\n",
       "      <td>19.305792</td>\n",
       "      <td>9182100</td>\n",
       "      <td>125.870090</td>\n",
       "      <td>126.258788</td>\n",
       "      <td>122.518617</td>\n",
       "      <td>124.721260</td>\n",
       "      <td>1695100</td>\n",
       "    </tr>\n",
       "    <tr>\n",
       "      <th>2015-01-06</th>\n",
       "      <td>4.240000</td>\n",
       "      <td>4.250000</td>\n",
       "      <td>4.000000</td>\n",
       "      <td>4.07</td>\n",
       "      <td>9000</td>\n",
       "      <td>NaN</td>\n",
       "      <td>NaN</td>\n",
       "      <td>NaN</td>\n",
       "      <td>NaN</td>\n",
       "      <td>NaN</td>\n",
       "      <td>...</td>\n",
       "      <td>19.192457</td>\n",
       "      <td>19.258573</td>\n",
       "      <td>18.417959</td>\n",
       "      <td>18.569080</td>\n",
       "      <td>16832900</td>\n",
       "      <td>123.952511</td>\n",
       "      <td>124.678083</td>\n",
       "      <td>120.290076</td>\n",
       "      <td>122.060829</td>\n",
       "      <td>1975800</td>\n",
       "    </tr>\n",
       "    <tr>\n",
       "      <th>2015-01-07</th>\n",
       "      <td>4.240000</td>\n",
       "      <td>4.290000</td>\n",
       "      <td>4.120000</td>\n",
       "      <td>4.29</td>\n",
       "      <td>22300</td>\n",
       "      <td>NaN</td>\n",
       "      <td>NaN</td>\n",
       "      <td>NaN</td>\n",
       "      <td>NaN</td>\n",
       "      <td>NaN</td>\n",
       "      <td>...</td>\n",
       "      <td>19.173563</td>\n",
       "      <td>19.362466</td>\n",
       "      <td>18.975217</td>\n",
       "      <td>19.296350</td>\n",
       "      <td>12387000</td>\n",
       "      <td>124.574423</td>\n",
       "      <td>127.157131</td>\n",
       "      <td>123.736555</td>\n",
       "      <td>125.645515</td>\n",
       "      <td>1472000</td>\n",
       "    </tr>\n",
       "    <tr>\n",
       "      <th>2015-01-08</th>\n",
       "      <td>4.230000</td>\n",
       "      <td>4.240000</td>\n",
       "      <td>4.160000</td>\n",
       "      <td>4.20</td>\n",
       "      <td>4400</td>\n",
       "      <td>NaN</td>\n",
       "      <td>NaN</td>\n",
       "      <td>NaN</td>\n",
       "      <td>NaN</td>\n",
       "      <td>NaN</td>\n",
       "      <td>...</td>\n",
       "      <td>19.702486</td>\n",
       "      <td>19.844162</td>\n",
       "      <td>19.513583</td>\n",
       "      <td>19.570253</td>\n",
       "      <td>12807100</td>\n",
       "      <td>127.027575</td>\n",
       "      <td>128.729224</td>\n",
       "      <td>126.448844</td>\n",
       "      <td>127.157150</td>\n",
       "      <td>1676600</td>\n",
       "    </tr>\n",
       "    <tr>\n",
       "      <th>...</th>\n",
       "      <td>...</td>\n",
       "      <td>...</td>\n",
       "      <td>...</td>\n",
       "      <td>...</td>\n",
       "      <td>...</td>\n",
       "      <td>...</td>\n",
       "      <td>...</td>\n",
       "      <td>...</td>\n",
       "      <td>...</td>\n",
       "      <td>...</td>\n",
       "      <td>...</td>\n",
       "      <td>...</td>\n",
       "      <td>...</td>\n",
       "      <td>...</td>\n",
       "      <td>...</td>\n",
       "      <td>...</td>\n",
       "      <td>...</td>\n",
       "      <td>...</td>\n",
       "      <td>...</td>\n",
       "      <td>...</td>\n",
       "      <td>...</td>\n",
       "    </tr>\n",
       "    <tr>\n",
       "      <th>2025-04-03</th>\n",
       "      <td>24.400000</td>\n",
       "      <td>24.820000</td>\n",
       "      <td>23.465000</td>\n",
       "      <td>23.77</td>\n",
       "      <td>12087200</td>\n",
       "      <td>32.075001</td>\n",
       "      <td>32.487000</td>\n",
       "      <td>31.170000</td>\n",
       "      <td>32.400002</td>\n",
       "      <td>15733100.0</td>\n",
       "      <td>...</td>\n",
       "      <td>28.910000</td>\n",
       "      <td>29.139999</td>\n",
       "      <td>27.500000</td>\n",
       "      <td>27.900000</td>\n",
       "      <td>13214400</td>\n",
       "      <td>78.500000</td>\n",
       "      <td>78.629997</td>\n",
       "      <td>72.500000</td>\n",
       "      <td>72.879997</td>\n",
       "      <td>5509100</td>\n",
       "    </tr>\n",
       "    <tr>\n",
       "      <th>2025-04-04</th>\n",
       "      <td>22.690001</td>\n",
       "      <td>23.639999</td>\n",
       "      <td>21.400000</td>\n",
       "      <td>23.18</td>\n",
       "      <td>10237500</td>\n",
       "      <td>30.700001</td>\n",
       "      <td>32.200001</td>\n",
       "      <td>29.639999</td>\n",
       "      <td>31.670000</td>\n",
       "      <td>18112600.0</td>\n",
       "      <td>...</td>\n",
       "      <td>26.879999</td>\n",
       "      <td>27.580000</td>\n",
       "      <td>25.610001</td>\n",
       "      <td>26.860001</td>\n",
       "      <td>11275500</td>\n",
       "      <td>68.610001</td>\n",
       "      <td>71.269997</td>\n",
       "      <td>66.199997</td>\n",
       "      <td>70.089996</td>\n",
       "      <td>8307700</td>\n",
       "    </tr>\n",
       "    <tr>\n",
       "      <th>2025-04-07</th>\n",
       "      <td>22.322001</td>\n",
       "      <td>25.190001</td>\n",
       "      <td>22.309999</td>\n",
       "      <td>23.75</td>\n",
       "      <td>9677100</td>\n",
       "      <td>30.520000</td>\n",
       "      <td>35.250000</td>\n",
       "      <td>30.360001</td>\n",
       "      <td>32.880001</td>\n",
       "      <td>18918800.0</td>\n",
       "      <td>...</td>\n",
       "      <td>26.059999</td>\n",
       "      <td>28.170000</td>\n",
       "      <td>25.530001</td>\n",
       "      <td>26.299999</td>\n",
       "      <td>11382900</td>\n",
       "      <td>67.980003</td>\n",
       "      <td>72.489998</td>\n",
       "      <td>66.599998</td>\n",
       "      <td>67.930000</td>\n",
       "      <td>4359300</td>\n",
       "    </tr>\n",
       "    <tr>\n",
       "      <th>2025-04-08</th>\n",
       "      <td>24.750000</td>\n",
       "      <td>25.225000</td>\n",
       "      <td>23.120001</td>\n",
       "      <td>23.51</td>\n",
       "      <td>7844800</td>\n",
       "      <td>34.200001</td>\n",
       "      <td>34.810001</td>\n",
       "      <td>31.274000</td>\n",
       "      <td>31.889999</td>\n",
       "      <td>13191400.0</td>\n",
       "      <td>...</td>\n",
       "      <td>27.260000</td>\n",
       "      <td>27.760000</td>\n",
       "      <td>25.299999</td>\n",
       "      <td>25.790001</td>\n",
       "      <td>10725100</td>\n",
       "      <td>70.239998</td>\n",
       "      <td>71.129997</td>\n",
       "      <td>65.250000</td>\n",
       "      <td>66.099998</td>\n",
       "      <td>4088400</td>\n",
       "    </tr>\n",
       "    <tr>\n",
       "      <th>2025-04-09</th>\n",
       "      <td>23.379999</td>\n",
       "      <td>27.760000</td>\n",
       "      <td>23.209999</td>\n",
       "      <td>27.57</td>\n",
       "      <td>10195349</td>\n",
       "      <td>32.150002</td>\n",
       "      <td>36.660000</td>\n",
       "      <td>31.730000</td>\n",
       "      <td>35.840000</td>\n",
       "      <td>19168925.0</td>\n",
       "      <td>...</td>\n",
       "      <td>25.629999</td>\n",
       "      <td>30.240000</td>\n",
       "      <td>25.620001</td>\n",
       "      <td>29.930000</td>\n",
       "      <td>8912022</td>\n",
       "      <td>65.930000</td>\n",
       "      <td>76.739899</td>\n",
       "      <td>65.720001</td>\n",
       "      <td>75.830002</td>\n",
       "      <td>7565039</td>\n",
       "    </tr>\n",
       "  </tbody>\n",
       "</table>\n",
       "<p>2583 rows × 30 columns</p>\n",
       "</div>"
      ],
      "text/plain": [
       "Ticker            CZR                                              DKNG  \\\n",
       "Price            Open       High        Low  Close    Volume       Open   \n",
       "Date                                                                      \n",
       "2015-01-02   4.240000   4.240000   3.880000   4.04      2200        NaN   \n",
       "2015-01-05   3.900000   4.280000   3.880000   4.25     15600        NaN   \n",
       "2015-01-06   4.240000   4.250000   4.000000   4.07      9000        NaN   \n",
       "2015-01-07   4.240000   4.290000   4.120000   4.29     22300        NaN   \n",
       "2015-01-08   4.230000   4.240000   4.160000   4.20      4400        NaN   \n",
       "...               ...        ...        ...    ...       ...        ...   \n",
       "2025-04-03  24.400000  24.820000  23.465000  23.77  12087200  32.075001   \n",
       "2025-04-04  22.690001  23.639999  21.400000  23.18  10237500  30.700001   \n",
       "2025-04-07  22.322001  25.190001  22.309999  23.75   9677100  30.520000   \n",
       "2025-04-08  24.750000  25.225000  23.120001  23.51   7844800  34.200001   \n",
       "2025-04-09  23.379999  27.760000  23.209999  27.57  10195349  32.150002   \n",
       "\n",
       "Ticker                                                   ...        MGM  \\\n",
       "Price            High        Low      Close      Volume  ...       Open   \n",
       "Date                                                     ...              \n",
       "2015-01-02        NaN        NaN        NaN         NaN  ...  20.136961   \n",
       "2015-01-05        NaN        NaN        NaN         NaN  ...  19.664705   \n",
       "2015-01-06        NaN        NaN        NaN         NaN  ...  19.192457   \n",
       "2015-01-07        NaN        NaN        NaN         NaN  ...  19.173563   \n",
       "2015-01-08        NaN        NaN        NaN         NaN  ...  19.702486   \n",
       "...               ...        ...        ...         ...  ...        ...   \n",
       "2025-04-03  32.487000  31.170000  32.400002  15733100.0  ...  28.910000   \n",
       "2025-04-04  32.200001  29.639999  31.670000  18112600.0  ...  26.879999   \n",
       "2025-04-07  35.250000  30.360001  32.880001  18918800.0  ...  26.059999   \n",
       "2025-04-08  34.810001  31.274000  31.889999  13191400.0  ...  27.260000   \n",
       "2025-04-09  36.660000  31.730000  35.840000  19168925.0  ...  25.629999   \n",
       "\n",
       "Ticker                                                       WYNN              \\\n",
       "Price            High        Low      Close    Volume        Open        High   \n",
       "Date                                                                            \n",
       "2015-01-02  20.297528  19.277457  19.853609  11628200  128.349115  128.901934   \n",
       "2015-01-05  19.778047  19.201895  19.305792   9182100  125.870090  126.258788   \n",
       "2015-01-06  19.258573  18.417959  18.569080  16832900  123.952511  124.678083   \n",
       "2015-01-07  19.362466  18.975217  19.296350  12387000  124.574423  127.157131   \n",
       "2015-01-08  19.844162  19.513583  19.570253  12807100  127.027575  128.729224   \n",
       "...               ...        ...        ...       ...         ...         ...   \n",
       "2025-04-03  29.139999  27.500000  27.900000  13214400   78.500000   78.629997   \n",
       "2025-04-04  27.580000  25.610001  26.860001  11275500   68.610001   71.269997   \n",
       "2025-04-07  28.170000  25.530001  26.299999  11382900   67.980003   72.489998   \n",
       "2025-04-08  27.760000  25.299999  25.790001  10725100   70.239998   71.129997   \n",
       "2025-04-09  30.240000  25.620001  29.930000   8912022   65.930000   76.739899   \n",
       "\n",
       "Ticker                                       \n",
       "Price              Low       Close   Volume  \n",
       "Date                                         \n",
       "2015-01-02  122.786368  126.880692  2228900  \n",
       "2015-01-05  122.518617  124.721260  1695100  \n",
       "2015-01-06  120.290076  122.060829  1975800  \n",
       "2015-01-07  123.736555  125.645515  1472000  \n",
       "2015-01-08  126.448844  127.157150  1676600  \n",
       "...                ...         ...      ...  \n",
       "2025-04-03   72.500000   72.879997  5509100  \n",
       "2025-04-04   66.199997   70.089996  8307700  \n",
       "2025-04-07   66.599998   67.930000  4359300  \n",
       "2025-04-08   65.250000   66.099998  4088400  \n",
       "2025-04-09   65.720001   75.830002  7565039  \n",
       "\n",
       "[2583 rows x 30 columns]"
      ]
     },
     "execution_count": 5,
     "metadata": {},
     "output_type": "execute_result"
    }
   ],
   "source": [
    "data"
   ]
  },
  {
   "cell_type": "code",
   "execution_count": 6,
   "id": "be18bf3f",
   "metadata": {},
   "outputs": [
    {
     "data": {
      "text/plain": [
       "(2583, 30)"
      ]
     },
     "execution_count": 6,
     "metadata": {},
     "output_type": "execute_result"
    }
   ],
   "source": [
    "data.shape"
   ]
  },
  {
   "cell_type": "code",
   "execution_count": 7,
   "id": "2549019e",
   "metadata": {},
   "outputs": [],
   "source": [
    "flat_df = data.stack(level=0).reset_index().rename(columns={'level_1':'Ticker'})"
   ]
  },
  {
   "cell_type": "code",
   "execution_count": 8,
   "id": "23d717c1",
   "metadata": {},
   "outputs": [],
   "source": [
    "flat_df = flat_df[['Date', 'Ticker', 'Open', 'High', 'Low', 'Close', 'Volume']]"
   ]
  },
  {
   "cell_type": "code",
   "execution_count": 9,
   "id": "b1c6580c",
   "metadata": {},
   "outputs": [
    {
     "data": {
      "text/html": [
       "<div>\n",
       "<style scoped>\n",
       "    .dataframe tbody tr th:only-of-type {\n",
       "        vertical-align: middle;\n",
       "    }\n",
       "\n",
       "    .dataframe tbody tr th {\n",
       "        vertical-align: top;\n",
       "    }\n",
       "\n",
       "    .dataframe thead th {\n",
       "        text-align: right;\n",
       "    }\n",
       "</style>\n",
       "<table border=\"1\" class=\"dataframe\">\n",
       "  <thead>\n",
       "    <tr style=\"text-align: right;\">\n",
       "      <th>Price</th>\n",
       "      <th>Date</th>\n",
       "      <th>Ticker</th>\n",
       "      <th>Open</th>\n",
       "      <th>High</th>\n",
       "      <th>Low</th>\n",
       "      <th>Close</th>\n",
       "      <th>Volume</th>\n",
       "    </tr>\n",
       "  </thead>\n",
       "  <tbody>\n",
       "    <tr>\n",
       "      <th>0</th>\n",
       "      <td>2015-01-02</td>\n",
       "      <td>BYD</td>\n",
       "      <td>12.157741</td>\n",
       "      <td>12.176619</td>\n",
       "      <td>11.496994</td>\n",
       "      <td>11.808489</td>\n",
       "      <td>1354500.0</td>\n",
       "    </tr>\n",
       "    <tr>\n",
       "      <th>1</th>\n",
       "      <td>2015-01-02</td>\n",
       "      <td>CZR</td>\n",
       "      <td>4.240000</td>\n",
       "      <td>4.240000</td>\n",
       "      <td>3.880000</td>\n",
       "      <td>4.040000</td>\n",
       "      <td>2200.0</td>\n",
       "    </tr>\n",
       "    <tr>\n",
       "      <th>2</th>\n",
       "      <td>2015-01-02</td>\n",
       "      <td>MGM</td>\n",
       "      <td>20.136961</td>\n",
       "      <td>20.297528</td>\n",
       "      <td>19.277457</td>\n",
       "      <td>19.853609</td>\n",
       "      <td>11628200.0</td>\n",
       "    </tr>\n",
       "    <tr>\n",
       "      <th>3</th>\n",
       "      <td>2015-01-02</td>\n",
       "      <td>PENN</td>\n",
       "      <td>13.730000</td>\n",
       "      <td>13.960000</td>\n",
       "      <td>13.390000</td>\n",
       "      <td>13.480000</td>\n",
       "      <td>773700.0</td>\n",
       "    </tr>\n",
       "    <tr>\n",
       "      <th>4</th>\n",
       "      <td>2015-01-02</td>\n",
       "      <td>WYNN</td>\n",
       "      <td>128.349115</td>\n",
       "      <td>128.901934</td>\n",
       "      <td>122.786368</td>\n",
       "      <td>126.880692</td>\n",
       "      <td>2228900.0</td>\n",
       "    </tr>\n",
       "  </tbody>\n",
       "</table>\n",
       "</div>"
      ],
      "text/plain": [
       "Price       Date Ticker        Open        High         Low       Close  \\\n",
       "0     2015-01-02    BYD   12.157741   12.176619   11.496994   11.808489   \n",
       "1     2015-01-02    CZR    4.240000    4.240000    3.880000    4.040000   \n",
       "2     2015-01-02    MGM   20.136961   20.297528   19.277457   19.853609   \n",
       "3     2015-01-02   PENN   13.730000   13.960000   13.390000   13.480000   \n",
       "4     2015-01-02   WYNN  128.349115  128.901934  122.786368  126.880692   \n",
       "\n",
       "Price      Volume  \n",
       "0       1354500.0  \n",
       "1          2200.0  \n",
       "2      11628200.0  \n",
       "3        773700.0  \n",
       "4       2228900.0  "
      ]
     },
     "execution_count": 9,
     "metadata": {},
     "output_type": "execute_result"
    }
   ],
   "source": [
    "flat_df.head(5)"
   ]
  },
  {
   "cell_type": "code",
   "execution_count": 10,
   "id": "64696d15",
   "metadata": {},
   "outputs": [],
   "source": [
    "close_only = flat_df[['Date','Ticker','Close','Volume']]"
   ]
  },
  {
   "cell_type": "code",
   "execution_count": 11,
   "id": "503ba45f",
   "metadata": {},
   "outputs": [
    {
     "data": {
      "text/html": [
       "<div>\n",
       "<style scoped>\n",
       "    .dataframe tbody tr th:only-of-type {\n",
       "        vertical-align: middle;\n",
       "    }\n",
       "\n",
       "    .dataframe tbody tr th {\n",
       "        vertical-align: top;\n",
       "    }\n",
       "\n",
       "    .dataframe thead th {\n",
       "        text-align: right;\n",
       "    }\n",
       "</style>\n",
       "<table border=\"1\" class=\"dataframe\">\n",
       "  <thead>\n",
       "    <tr style=\"text-align: right;\">\n",
       "      <th>Price</th>\n",
       "      <th>Date</th>\n",
       "      <th>Ticker</th>\n",
       "      <th>Close</th>\n",
       "      <th>Volume</th>\n",
       "    </tr>\n",
       "  </thead>\n",
       "  <tbody>\n",
       "    <tr>\n",
       "      <th>0</th>\n",
       "      <td>2015-01-02</td>\n",
       "      <td>BYD</td>\n",
       "      <td>11.808489</td>\n",
       "      <td>1354500.0</td>\n",
       "    </tr>\n",
       "    <tr>\n",
       "      <th>1</th>\n",
       "      <td>2015-01-02</td>\n",
       "      <td>CZR</td>\n",
       "      <td>4.040000</td>\n",
       "      <td>2200.0</td>\n",
       "    </tr>\n",
       "    <tr>\n",
       "      <th>2</th>\n",
       "      <td>2015-01-02</td>\n",
       "      <td>MGM</td>\n",
       "      <td>19.853609</td>\n",
       "      <td>11628200.0</td>\n",
       "    </tr>\n",
       "    <tr>\n",
       "      <th>3</th>\n",
       "      <td>2015-01-02</td>\n",
       "      <td>PENN</td>\n",
       "      <td>13.480000</td>\n",
       "      <td>773700.0</td>\n",
       "    </tr>\n",
       "    <tr>\n",
       "      <th>4</th>\n",
       "      <td>2015-01-02</td>\n",
       "      <td>WYNN</td>\n",
       "      <td>126.880692</td>\n",
       "      <td>2228900.0</td>\n",
       "    </tr>\n",
       "    <tr>\n",
       "      <th>...</th>\n",
       "      <td>...</td>\n",
       "      <td>...</td>\n",
       "      <td>...</td>\n",
       "      <td>...</td>\n",
       "    </tr>\n",
       "    <tr>\n",
       "      <th>14346</th>\n",
       "      <td>2025-04-09</td>\n",
       "      <td>CZR</td>\n",
       "      <td>27.570000</td>\n",
       "      <td>10195349.0</td>\n",
       "    </tr>\n",
       "    <tr>\n",
       "      <th>14347</th>\n",
       "      <td>2025-04-09</td>\n",
       "      <td>DKNG</td>\n",
       "      <td>35.840000</td>\n",
       "      <td>19168925.0</td>\n",
       "    </tr>\n",
       "    <tr>\n",
       "      <th>14348</th>\n",
       "      <td>2025-04-09</td>\n",
       "      <td>MGM</td>\n",
       "      <td>29.930000</td>\n",
       "      <td>8912022.0</td>\n",
       "    </tr>\n",
       "    <tr>\n",
       "      <th>14349</th>\n",
       "      <td>2025-04-09</td>\n",
       "      <td>PENN</td>\n",
       "      <td>16.280001</td>\n",
       "      <td>6289644.0</td>\n",
       "    </tr>\n",
       "    <tr>\n",
       "      <th>14350</th>\n",
       "      <td>2025-04-09</td>\n",
       "      <td>WYNN</td>\n",
       "      <td>75.830002</td>\n",
       "      <td>7565039.0</td>\n",
       "    </tr>\n",
       "  </tbody>\n",
       "</table>\n",
       "<p>14351 rows × 4 columns</p>\n",
       "</div>"
      ],
      "text/plain": [
       "Price       Date Ticker       Close      Volume\n",
       "0     2015-01-02    BYD   11.808489   1354500.0\n",
       "1     2015-01-02    CZR    4.040000      2200.0\n",
       "2     2015-01-02    MGM   19.853609  11628200.0\n",
       "3     2015-01-02   PENN   13.480000    773700.0\n",
       "4     2015-01-02   WYNN  126.880692   2228900.0\n",
       "...          ...    ...         ...         ...\n",
       "14346 2025-04-09    CZR   27.570000  10195349.0\n",
       "14347 2025-04-09   DKNG   35.840000  19168925.0\n",
       "14348 2025-04-09    MGM   29.930000   8912022.0\n",
       "14349 2025-04-09   PENN   16.280001   6289644.0\n",
       "14350 2025-04-09   WYNN   75.830002   7565039.0\n",
       "\n",
       "[14351 rows x 4 columns]"
      ]
     },
     "execution_count": 11,
     "metadata": {},
     "output_type": "execute_result"
    }
   ],
   "source": [
    "close_only"
   ]
  },
  {
   "cell_type": "code",
   "execution_count": 12,
   "id": "6a19317e",
   "metadata": {},
   "outputs": [
    {
     "data": {
      "text/plain": [
       "(14351, 4)"
      ]
     },
     "execution_count": 12,
     "metadata": {},
     "output_type": "execute_result"
    }
   ],
   "source": [
    "close_only.shape"
   ]
  },
  {
   "cell_type": "code",
   "execution_count": 13,
   "id": "2cd02c1c",
   "metadata": {},
   "outputs": [
    {
     "data": {
      "text/plain": [
       "<bound method NDFrame.describe of Price       Date Ticker       Close      Volume\n",
       "0     2015-01-02    BYD   11.808489   1354500.0\n",
       "1     2015-01-02    CZR    4.040000      2200.0\n",
       "2     2015-01-02    MGM   19.853609  11628200.0\n",
       "3     2015-01-02   PENN   13.480000    773700.0\n",
       "4     2015-01-02   WYNN  126.880692   2228900.0\n",
       "...          ...    ...         ...         ...\n",
       "14346 2025-04-09    CZR   27.570000  10195349.0\n",
       "14347 2025-04-09   DKNG   35.840000  19168925.0\n",
       "14348 2025-04-09    MGM   29.930000   8912022.0\n",
       "14349 2025-04-09   PENN   16.280001   6289644.0\n",
       "14350 2025-04-09   WYNN   75.830002   7565039.0\n",
       "\n",
       "[14351 rows x 4 columns]>"
      ]
     },
     "execution_count": 13,
     "metadata": {},
     "output_type": "execute_result"
    }
   ],
   "source": [
    "close_only.describe"
   ]
  },
  {
   "cell_type": "code",
   "execution_count": 14,
   "id": "5c946236",
   "metadata": {},
   "outputs": [
    {
     "data": {
      "text/plain": [
       "<bound method DataFrame.info of Price       Date Ticker       Close      Volume\n",
       "0     2015-01-02    BYD   11.808489   1354500.0\n",
       "1     2015-01-02    CZR    4.040000      2200.0\n",
       "2     2015-01-02    MGM   19.853609  11628200.0\n",
       "3     2015-01-02   PENN   13.480000    773700.0\n",
       "4     2015-01-02   WYNN  126.880692   2228900.0\n",
       "...          ...    ...         ...         ...\n",
       "14346 2025-04-09    CZR   27.570000  10195349.0\n",
       "14347 2025-04-09   DKNG   35.840000  19168925.0\n",
       "14348 2025-04-09    MGM   29.930000   8912022.0\n",
       "14349 2025-04-09   PENN   16.280001   6289644.0\n",
       "14350 2025-04-09   WYNN   75.830002   7565039.0\n",
       "\n",
       "[14351 rows x 4 columns]>"
      ]
     },
     "execution_count": 14,
     "metadata": {},
     "output_type": "execute_result"
    }
   ],
   "source": [
    "close_only.info"
   ]
  },
  {
   "cell_type": "code",
   "execution_count": 15,
   "id": "3c542675",
   "metadata": {},
   "outputs": [
    {
     "name": "stdout",
     "output_type": "stream",
     "text": [
      "<class 'pandas.core.frame.DataFrame'>\n",
      "RangeIndex: 14351 entries, 0 to 14350\n",
      "Data columns (total 4 columns):\n",
      " #   Column  Non-Null Count  Dtype         \n",
      "---  ------  --------------  -----         \n",
      " 0   Date    14351 non-null  datetime64[ns]\n",
      " 1   Ticker  14351 non-null  object        \n",
      " 2   Close   14351 non-null  float64       \n",
      " 3   Volume  14351 non-null  float64       \n",
      "dtypes: datetime64[ns](1), float64(2), object(1)\n",
      "memory usage: 448.6+ KB\n"
     ]
    }
   ],
   "source": [
    "close_only.info()"
   ]
  },
  {
   "cell_type": "code",
   "execution_count": 16,
   "id": "dd32805e",
   "metadata": {},
   "outputs": [
    {
     "data": {
      "text/plain": [
       "Ticker\n",
       "BYD     100061.482192\n",
       "CZR     106355.907976\n",
       "DKNG     45317.052032\n",
       "MGM      80170.747273\n",
       "PENN     78937.160002\n",
       "WYNN    257690.420151\n",
       "Name: Close, dtype: float64"
      ]
     },
     "execution_count": 16,
     "metadata": {},
     "output_type": "execute_result"
    }
   ],
   "source": [
    "close_only.groupby('Ticker')['Close'].sum()"
   ]
  },
  {
   "cell_type": "code",
   "execution_count": 17,
   "id": "f24bf335",
   "metadata": {},
   "outputs": [],
   "source": [
    "import seaborn as sns\n",
    "import matplotlib.pyplot as plt"
   ]
  },
  {
   "cell_type": "code",
   "execution_count": 18,
   "id": "680ebd74",
   "metadata": {},
   "outputs": [
    {
     "data": {
      "image/png": "[encoded data removed]",
      "text/plain": [
       "<Figure size 1200x800 with 1 Axes>"
      ]
     },
     "metadata": {},
     "output_type": "display_data"
    }
   ],
   "source": [
    "plt.figure(figsize=(12,8))\n",
    "sns.lineplot(data=close_only,x='Date',y='Close',hue='Ticker',palette='viridis')\n",
    "plt.title('Closing Price Gaming Stocks', fontweight ='bold',fontsize = 20)\n",
    "plt.ylabel('Closing Price in USD', fontsize=16)\n",
    "plt.xlabel('Year', fontsize=16)\n",
    "sns.despine()"
   ]
  },
  {
   "cell_type": "code",
   "execution_count": 19,
   "id": "9bfca9a1",
   "metadata": {},
   "outputs": [
    {
     "data": {
      "text/plain": [
       "Price\n",
       "Date      datetime64[ns]\n",
       "Ticker            object\n",
       "Close            float64\n",
       "Volume           float64\n",
       "dtype: object"
      ]
     },
     "execution_count": 19,
     "metadata": {},
     "output_type": "execute_result"
    }
   ],
   "source": [
    "close_only.dtypes"
   ]
  },
  {
   "cell_type": "code",
   "execution_count": 20,
   "id": "7ccd97f8",
   "metadata": {},
   "outputs": [],
   "source": [
    "## rolling average\n",
    "close_only = flat_df[['Date', 'Ticker', 'Close','Volume']].copy()\n",
    "close_only['Rolling 30'] = close_only.groupby('Ticker')['Close'].transform(lambda x: x.rolling(window=30).mean())"
   ]
  },
  {
   "cell_type": "code",
   "execution_count": 21,
   "id": "e174c892",
   "metadata": {},
   "outputs": [
    {
     "data": {
      "text/html": [
       "<div>\n",
       "<style scoped>\n",
       "    .dataframe tbody tr th:only-of-type {\n",
       "        vertical-align: middle;\n",
       "    }\n",
       "\n",
       "    .dataframe tbody tr th {\n",
       "        vertical-align: top;\n",
       "    }\n",
       "\n",
       "    .dataframe thead th {\n",
       "        text-align: right;\n",
       "    }\n",
       "</style>\n",
       "<table border=\"1\" class=\"dataframe\">\n",
       "  <thead>\n",
       "    <tr style=\"text-align: right;\">\n",
       "      <th>Price</th>\n",
       "      <th>Date</th>\n",
       "      <th>Ticker</th>\n",
       "      <th>Close</th>\n",
       "      <th>Volume</th>\n",
       "      <th>Rolling 30</th>\n",
       "    </tr>\n",
       "  </thead>\n",
       "  <tbody>\n",
       "    <tr>\n",
       "      <th>0</th>\n",
       "      <td>2015-01-02</td>\n",
       "      <td>BYD</td>\n",
       "      <td>11.808489</td>\n",
       "      <td>1354500.0</td>\n",
       "      <td>NaN</td>\n",
       "    </tr>\n",
       "    <tr>\n",
       "      <th>1</th>\n",
       "      <td>2015-01-02</td>\n",
       "      <td>CZR</td>\n",
       "      <td>4.040000</td>\n",
       "      <td>2200.0</td>\n",
       "      <td>NaN</td>\n",
       "    </tr>\n",
       "    <tr>\n",
       "      <th>2</th>\n",
       "      <td>2015-01-02</td>\n",
       "      <td>MGM</td>\n",
       "      <td>19.853609</td>\n",
       "      <td>11628200.0</td>\n",
       "      <td>NaN</td>\n",
       "    </tr>\n",
       "    <tr>\n",
       "      <th>3</th>\n",
       "      <td>2015-01-02</td>\n",
       "      <td>PENN</td>\n",
       "      <td>13.480000</td>\n",
       "      <td>773700.0</td>\n",
       "      <td>NaN</td>\n",
       "    </tr>\n",
       "    <tr>\n",
       "      <th>4</th>\n",
       "      <td>2015-01-02</td>\n",
       "      <td>WYNN</td>\n",
       "      <td>126.880692</td>\n",
       "      <td>2228900.0</td>\n",
       "      <td>NaN</td>\n",
       "    </tr>\n",
       "    <tr>\n",
       "      <th>...</th>\n",
       "      <td>...</td>\n",
       "      <td>...</td>\n",
       "      <td>...</td>\n",
       "      <td>...</td>\n",
       "      <td>...</td>\n",
       "    </tr>\n",
       "    <tr>\n",
       "      <th>14346</th>\n",
       "      <td>2025-04-09</td>\n",
       "      <td>CZR</td>\n",
       "      <td>27.570000</td>\n",
       "      <td>10195349.0</td>\n",
       "      <td>27.591667</td>\n",
       "    </tr>\n",
       "    <tr>\n",
       "      <th>14347</th>\n",
       "      <td>2025-04-09</td>\n",
       "      <td>DKNG</td>\n",
       "      <td>35.840000</td>\n",
       "      <td>19168925.0</td>\n",
       "      <td>37.630000</td>\n",
       "    </tr>\n",
       "    <tr>\n",
       "      <th>14348</th>\n",
       "      <td>2025-04-09</td>\n",
       "      <td>MGM</td>\n",
       "      <td>29.930000</td>\n",
       "      <td>8912022.0</td>\n",
       "      <td>31.146666</td>\n",
       "    </tr>\n",
       "    <tr>\n",
       "      <th>14349</th>\n",
       "      <td>2025-04-09</td>\n",
       "      <td>PENN</td>\n",
       "      <td>16.280001</td>\n",
       "      <td>6289644.0</td>\n",
       "      <td>17.285667</td>\n",
       "    </tr>\n",
       "    <tr>\n",
       "      <th>14350</th>\n",
       "      <td>2025-04-09</td>\n",
       "      <td>WYNN</td>\n",
       "      <td>75.830002</td>\n",
       "      <td>7565039.0</td>\n",
       "      <td>83.347000</td>\n",
       "    </tr>\n",
       "  </tbody>\n",
       "</table>\n",
       "<p>14351 rows × 5 columns</p>\n",
       "</div>"
      ],
      "text/plain": [
       "Price       Date Ticker       Close      Volume  Rolling 30\n",
       "0     2015-01-02    BYD   11.808489   1354500.0         NaN\n",
       "1     2015-01-02    CZR    4.040000      2200.0         NaN\n",
       "2     2015-01-02    MGM   19.853609  11628200.0         NaN\n",
       "3     2015-01-02   PENN   13.480000    773700.0         NaN\n",
       "4     2015-01-02   WYNN  126.880692   2228900.0         NaN\n",
       "...          ...    ...         ...         ...         ...\n",
       "14346 2025-04-09    CZR   27.570000  10195349.0   27.591667\n",
       "14347 2025-04-09   DKNG   35.840000  19168925.0   37.630000\n",
       "14348 2025-04-09    MGM   29.930000   8912022.0   31.146666\n",
       "14349 2025-04-09   PENN   16.280001   6289644.0   17.285667\n",
       "14350 2025-04-09   WYNN   75.830002   7565039.0   83.347000\n",
       "\n",
       "[14351 rows x 5 columns]"
      ]
     },
     "execution_count": 21,
     "metadata": {},
     "output_type": "execute_result"
    }
   ],
   "source": [
    "close_only"
   ]
  },
  {
   "cell_type": "code",
   "execution_count": 22,
   "id": "d9a7f654",
   "metadata": {},
   "outputs": [
    {
     "data": {
      "image/png": "[encoded data removed]",
      "text/plain": [
       "<Figure size 1200x800 with 1 Axes>"
      ]
     },
     "metadata": {},
     "output_type": "display_data"
    }
   ],
   "source": [
    "plt.figure(figsize=(12,8))\n",
    "sns.lineplot(data=close_only,x='Date',y='Rolling 30',hue='Ticker',palette='viridis',linewidth=3)\n",
    "plt.title('Closing Price Gaming Stocks', fontweight ='bold',fontsize = 20)\n",
    "plt.ylabel('Closing Price in USD', fontsize=16)\n",
    "plt.xlabel('Year', fontsize=16)\n",
    "sns.despine()"
   ]
  },
  {
   "cell_type": "code",
   "execution_count": 23,
   "id": "1b73ccef",
   "metadata": {},
   "outputs": [
    {
     "data": {
      "text/plain": [
       "Index(['Date', 'Ticker', 'Close', 'Volume', 'Rolling 30'], dtype='object', name='Price')"
      ]
     },
     "execution_count": 23,
     "metadata": {},
     "output_type": "execute_result"
    }
   ],
   "source": [
    "close_only.columns"
   ]
  },
  {
   "cell_type": "code",
   "execution_count": 24,
   "id": "98de2d91",
   "metadata": {},
   "outputs": [
    {
     "data": {
      "text/plain": [
       "-0.13800866525914846"
      ]
     },
     "execution_count": 24,
     "metadata": {},
     "output_type": "execute_result"
    }
   ],
   "source": [
    "close_only['Volume'].corr(close_only['Close'])\n",
    "## negative correlation bewtween volumen and close price"
   ]
  },
  {
   "cell_type": "code",
   "execution_count": 25,
   "id": "71b6a7ee",
   "metadata": {},
   "outputs": [],
   "source": [
    "## Average Prices per year\n",
    "close_only['Year'] = close_only['Date'].dt.year"
   ]
  },
  {
   "cell_type": "code",
   "execution_count": 26,
   "id": "0463e090",
   "metadata": {},
   "outputs": [
    {
     "data": {
      "text/html": [
       "<div>\n",
       "<style scoped>\n",
       "    .dataframe tbody tr th:only-of-type {\n",
       "        vertical-align: middle;\n",
       "    }\n",
       "\n",
       "    .dataframe tbody tr th {\n",
       "        vertical-align: top;\n",
       "    }\n",
       "\n",
       "    .dataframe thead th {\n",
       "        text-align: right;\n",
       "    }\n",
       "</style>\n",
       "<table border=\"1\" class=\"dataframe\">\n",
       "  <thead>\n",
       "    <tr style=\"text-align: right;\">\n",
       "      <th>Price</th>\n",
       "      <th>Date</th>\n",
       "      <th>Ticker</th>\n",
       "      <th>Close</th>\n",
       "      <th>Volume</th>\n",
       "      <th>Rolling 30</th>\n",
       "      <th>Year</th>\n",
       "    </tr>\n",
       "  </thead>\n",
       "  <tbody>\n",
       "    <tr>\n",
       "      <th>0</th>\n",
       "      <td>2015-01-02</td>\n",
       "      <td>BYD</td>\n",
       "      <td>11.808489</td>\n",
       "      <td>1354500.0</td>\n",
       "      <td>NaN</td>\n",
       "      <td>2015</td>\n",
       "    </tr>\n",
       "    <tr>\n",
       "      <th>1</th>\n",
       "      <td>2015-01-02</td>\n",
       "      <td>CZR</td>\n",
       "      <td>4.040000</td>\n",
       "      <td>2200.0</td>\n",
       "      <td>NaN</td>\n",
       "      <td>2015</td>\n",
       "    </tr>\n",
       "    <tr>\n",
       "      <th>2</th>\n",
       "      <td>2015-01-02</td>\n",
       "      <td>MGM</td>\n",
       "      <td>19.853609</td>\n",
       "      <td>11628200.0</td>\n",
       "      <td>NaN</td>\n",
       "      <td>2015</td>\n",
       "    </tr>\n",
       "    <tr>\n",
       "      <th>3</th>\n",
       "      <td>2015-01-02</td>\n",
       "      <td>PENN</td>\n",
       "      <td>13.480000</td>\n",
       "      <td>773700.0</td>\n",
       "      <td>NaN</td>\n",
       "      <td>2015</td>\n",
       "    </tr>\n",
       "    <tr>\n",
       "      <th>4</th>\n",
       "      <td>2015-01-02</td>\n",
       "      <td>WYNN</td>\n",
       "      <td>126.880692</td>\n",
       "      <td>2228900.0</td>\n",
       "      <td>NaN</td>\n",
       "      <td>2015</td>\n",
       "    </tr>\n",
       "  </tbody>\n",
       "</table>\n",
       "</div>"
      ],
      "text/plain": [
       "Price       Date Ticker       Close      Volume  Rolling 30  Year\n",
       "0     2015-01-02    BYD   11.808489   1354500.0         NaN  2015\n",
       "1     2015-01-02    CZR    4.040000      2200.0         NaN  2015\n",
       "2     2015-01-02    MGM   19.853609  11628200.0         NaN  2015\n",
       "3     2015-01-02   PENN   13.480000    773700.0         NaN  2015\n",
       "4     2015-01-02   WYNN  126.880692   2228900.0         NaN  2015"
      ]
     },
     "execution_count": 26,
     "metadata": {},
     "output_type": "execute_result"
    }
   ],
   "source": [
    "close_only.head(5)"
   ]
  },
  {
   "cell_type": "code",
   "execution_count": 27,
   "id": "00006ac8",
   "metadata": {},
   "outputs": [],
   "source": [
    "## highest year was 2021\n",
    "## Lets do this graphically\n",
    "price_by_year = close_only.groupby('Year')['Close'].mean().sort_values(ascending=False)"
   ]
  },
  {
   "cell_type": "code",
   "execution_count": 28,
   "id": "3f8b5879",
   "metadata": {},
   "outputs": [
    {
     "data": {
      "text/plain": [
       "Year\n",
       "2021    72.409191\n",
       "2018    54.565176\n",
       "2023    50.437197\n",
       "2024    48.714179\n",
       "2025    46.716586\n",
       "2022    45.141832\n",
       "2019    44.590300\n",
       "2017    42.821231\n",
       "2020    42.669992\n",
       "2016    29.739950\n",
       "2015    29.663606\n",
       "Name: Close, dtype: float64"
      ]
     },
     "execution_count": 28,
     "metadata": {},
     "output_type": "execute_result"
    }
   ],
   "source": [
    "price_by_year"
   ]
  },
  {
   "cell_type": "code",
   "execution_count": 29,
   "id": "ea3dcdd7",
   "metadata": {},
   "outputs": [
    {
     "name": "stderr",
     "output_type": "stream",
     "text": [
      "C:\\Users\\cbreton\\AppData\\Local\\Temp\\ipykernel_11376\\2221949235.py:1: FutureWarning: \n",
      "\n",
      "Passing `palette` without assigning `hue` is deprecated and will be removed in v0.14.0. Assign the `x` variable to `hue` and set `legend=False` for the same effect.\n",
      "\n",
      "  sns.barplot(data=price_by_year[:10],palette='magma')\n"
     ]
    },
    {
     "data": {
      "text/plain": [
       "Text(0, 0.5, 'Price in USD')"
      ]
     },
     "execution_count": 29,
     "metadata": {},
     "output_type": "execute_result"
    },
    {
     "data": {
      "image/png": "[encoded data removed]",
      "text/plain": [
       "<Figure size 640x480 with 1 Axes>"
      ]
     },
     "metadata": {},
     "output_type": "display_data"
    }
   ],
   "source": [
    "sns.barplot(data=price_by_year[:10],palette='magma')\n",
    "plt.title('Mean Price of Gaming Stock by Year',fontweight = 'bold')\n",
    "sns.despine()\n",
    "plt.ylabel('Price in USD')"
   ]
  },
  {
   "cell_type": "code",
   "execution_count": 30,
   "id": "105eec75",
   "metadata": {},
   "outputs": [],
   "source": [
    "vol_by_year = close_only.groupby('Year')['Volume'].mean().sort_values(ascending=False)"
   ]
  },
  {
   "cell_type": "code",
   "execution_count": 31,
   "id": "1a55ddb7",
   "metadata": {},
   "outputs": [
    {
     "data": {
      "text/plain": [
       "Year\n",
       "2020    8.965016e+06\n",
       "2022    6.574919e+06\n",
       "2021    5.809711e+06\n",
       "2025    5.147317e+06\n",
       "2023    4.461722e+06\n",
       "2024    4.358788e+06\n",
       "2018    3.267685e+06\n",
       "2015    3.047763e+06\n",
       "2017    2.761408e+06\n",
       "2016    2.597628e+06\n",
       "2019    2.263062e+06\n",
       "Name: Volume, dtype: float64"
      ]
     },
     "execution_count": 31,
     "metadata": {},
     "output_type": "execute_result"
    }
   ],
   "source": [
    "vol_by_year"
   ]
  },
  {
   "cell_type": "code",
   "execution_count": 32,
   "id": "d65e3237",
   "metadata": {},
   "outputs": [
    {
     "name": "stderr",
     "output_type": "stream",
     "text": [
      "C:\\Users\\cbreton\\AppData\\Local\\Temp\\ipykernel_11376\\3434924037.py:1: FutureWarning: \n",
      "\n",
      "Passing `palette` without assigning `hue` is deprecated and will be removed in v0.14.0. Assign the `x` variable to `hue` and set `legend=False` for the same effect.\n",
      "\n",
      "  sns.barplot(data=vol_by_year[:10],palette='magma')\n"
     ]
    },
    {
     "data": {
      "text/plain": [
       "Text(0, 0.5, 'Number of Share')"
      ]
     },
     "execution_count": 32,
     "metadata": {},
     "output_type": "execute_result"
    },
    {
     "data": {
      "image/png": "[encoded data removed]",
      "text/plain": [
       "<Figure size 640x480 with 1 Axes>"
      ]
     },
     "metadata": {},
     "output_type": "display_data"
    }
   ],
   "source": [
    "sns.barplot(data=vol_by_year[:10],palette='magma')\n",
    "plt.title('Trading Volume by Year',fontweight = 'bold')\n",
    "sns.despine()\n",
    "plt.ylabel('Number of Share')"
   ]
  },
  {
   "cell_type": "code",
   "execution_count": 33,
   "id": "743bebef",
   "metadata": {},
   "outputs": [
    {
     "data": {
      "text/html": [
       "<div>\n",
       "<style scoped>\n",
       "    .dataframe tbody tr th:only-of-type {\n",
       "        vertical-align: middle;\n",
       "    }\n",
       "\n",
       "    .dataframe tbody tr th {\n",
       "        vertical-align: top;\n",
       "    }\n",
       "\n",
       "    .dataframe thead th {\n",
       "        text-align: right;\n",
       "    }\n",
       "</style>\n",
       "<table border=\"1\" class=\"dataframe\">\n",
       "  <thead>\n",
       "    <tr style=\"text-align: right;\">\n",
       "      <th>Price</th>\n",
       "      <th>Date</th>\n",
       "      <th>Ticker</th>\n",
       "      <th>Close</th>\n",
       "      <th>Volume</th>\n",
       "      <th>Rolling 30</th>\n",
       "      <th>Year</th>\n",
       "    </tr>\n",
       "  </thead>\n",
       "  <tbody>\n",
       "    <tr>\n",
       "      <th>0</th>\n",
       "      <td>2015-01-02</td>\n",
       "      <td>BYD</td>\n",
       "      <td>11.808489</td>\n",
       "      <td>1354500.0</td>\n",
       "      <td>NaN</td>\n",
       "      <td>2015</td>\n",
       "    </tr>\n",
       "    <tr>\n",
       "      <th>1</th>\n",
       "      <td>2015-01-02</td>\n",
       "      <td>CZR</td>\n",
       "      <td>4.040000</td>\n",
       "      <td>2200.0</td>\n",
       "      <td>NaN</td>\n",
       "      <td>2015</td>\n",
       "    </tr>\n",
       "    <tr>\n",
       "      <th>2</th>\n",
       "      <td>2015-01-02</td>\n",
       "      <td>MGM</td>\n",
       "      <td>19.853609</td>\n",
       "      <td>11628200.0</td>\n",
       "      <td>NaN</td>\n",
       "      <td>2015</td>\n",
       "    </tr>\n",
       "    <tr>\n",
       "      <th>3</th>\n",
       "      <td>2015-01-02</td>\n",
       "      <td>PENN</td>\n",
       "      <td>13.480000</td>\n",
       "      <td>773700.0</td>\n",
       "      <td>NaN</td>\n",
       "      <td>2015</td>\n",
       "    </tr>\n",
       "    <tr>\n",
       "      <th>4</th>\n",
       "      <td>2015-01-02</td>\n",
       "      <td>WYNN</td>\n",
       "      <td>126.880692</td>\n",
       "      <td>2228900.0</td>\n",
       "      <td>NaN</td>\n",
       "      <td>2015</td>\n",
       "    </tr>\n",
       "  </tbody>\n",
       "</table>\n",
       "</div>"
      ],
      "text/plain": [
       "Price       Date Ticker       Close      Volume  Rolling 30  Year\n",
       "0     2015-01-02    BYD   11.808489   1354500.0         NaN  2015\n",
       "1     2015-01-02    CZR    4.040000      2200.0         NaN  2015\n",
       "2     2015-01-02    MGM   19.853609  11628200.0         NaN  2015\n",
       "3     2015-01-02   PENN   13.480000    773700.0         NaN  2015\n",
       "4     2015-01-02   WYNN  126.880692   2228900.0         NaN  2015"
      ]
     },
     "execution_count": 33,
     "metadata": {},
     "output_type": "execute_result"
    }
   ],
   "source": [
    "close_only.head(5)"
   ]
  },
  {
   "cell_type": "code",
   "execution_count": 34,
   "id": "56992c68",
   "metadata": {},
   "outputs": [
    {
     "data": {
      "text/html": [
       "<div>\n",
       "<style scoped>\n",
       "    .dataframe tbody tr th:only-of-type {\n",
       "        vertical-align: middle;\n",
       "    }\n",
       "\n",
       "    .dataframe tbody tr th {\n",
       "        vertical-align: top;\n",
       "    }\n",
       "\n",
       "    .dataframe thead th {\n",
       "        text-align: right;\n",
       "    }\n",
       "</style>\n",
       "<table border=\"1\" class=\"dataframe\">\n",
       "  <thead>\n",
       "    <tr style=\"text-align: right;\">\n",
       "      <th>Price</th>\n",
       "      <th>Date</th>\n",
       "      <th>Ticker</th>\n",
       "      <th>Open</th>\n",
       "      <th>High</th>\n",
       "      <th>Low</th>\n",
       "      <th>Close</th>\n",
       "      <th>Volume</th>\n",
       "    </tr>\n",
       "  </thead>\n",
       "  <tbody>\n",
       "    <tr>\n",
       "      <th>0</th>\n",
       "      <td>2015-01-02</td>\n",
       "      <td>BYD</td>\n",
       "      <td>12.157741</td>\n",
       "      <td>12.176619</td>\n",
       "      <td>11.496994</td>\n",
       "      <td>11.808489</td>\n",
       "      <td>1354500.0</td>\n",
       "    </tr>\n",
       "    <tr>\n",
       "      <th>1</th>\n",
       "      <td>2015-01-02</td>\n",
       "      <td>CZR</td>\n",
       "      <td>4.240000</td>\n",
       "      <td>4.240000</td>\n",
       "      <td>3.880000</td>\n",
       "      <td>4.040000</td>\n",
       "      <td>2200.0</td>\n",
       "    </tr>\n",
       "    <tr>\n",
       "      <th>2</th>\n",
       "      <td>2015-01-02</td>\n",
       "      <td>MGM</td>\n",
       "      <td>20.136961</td>\n",
       "      <td>20.297528</td>\n",
       "      <td>19.277457</td>\n",
       "      <td>19.853609</td>\n",
       "      <td>11628200.0</td>\n",
       "    </tr>\n",
       "    <tr>\n",
       "      <th>3</th>\n",
       "      <td>2015-01-02</td>\n",
       "      <td>PENN</td>\n",
       "      <td>13.730000</td>\n",
       "      <td>13.960000</td>\n",
       "      <td>13.390000</td>\n",
       "      <td>13.480000</td>\n",
       "      <td>773700.0</td>\n",
       "    </tr>\n",
       "    <tr>\n",
       "      <th>4</th>\n",
       "      <td>2015-01-02</td>\n",
       "      <td>WYNN</td>\n",
       "      <td>128.349115</td>\n",
       "      <td>128.901934</td>\n",
       "      <td>122.786368</td>\n",
       "      <td>126.880692</td>\n",
       "      <td>2228900.0</td>\n",
       "    </tr>\n",
       "  </tbody>\n",
       "</table>\n",
       "</div>"
      ],
      "text/plain": [
       "Price       Date Ticker        Open        High         Low       Close  \\\n",
       "0     2015-01-02    BYD   12.157741   12.176619   11.496994   11.808489   \n",
       "1     2015-01-02    CZR    4.240000    4.240000    3.880000    4.040000   \n",
       "2     2015-01-02    MGM   20.136961   20.297528   19.277457   19.853609   \n",
       "3     2015-01-02   PENN   13.730000   13.960000   13.390000   13.480000   \n",
       "4     2015-01-02   WYNN  128.349115  128.901934  122.786368  126.880692   \n",
       "\n",
       "Price      Volume  \n",
       "0       1354500.0  \n",
       "1          2200.0  \n",
       "2      11628200.0  \n",
       "3        773700.0  \n",
       "4       2228900.0  "
      ]
     },
     "execution_count": 34,
     "metadata": {},
     "output_type": "execute_result"
    }
   ],
   "source": [
    "flat_df.head(5)"
   ]
  },
  {
   "cell_type": "code",
   "execution_count": 35,
   "id": "57c5077e",
   "metadata": {},
   "outputs": [],
   "source": [
    "flat_df['Year'] = flat_df['Date'].dt.year"
   ]
  },
  {
   "cell_type": "code",
   "execution_count": 36,
   "id": "0d631724",
   "metadata": {},
   "outputs": [],
   "source": [
    "flat_df['Month'] = flat_df['Date'].dt.month"
   ]
  },
  {
   "cell_type": "code",
   "execution_count": 37,
   "id": "4649fda0",
   "metadata": {},
   "outputs": [],
   "source": [
    "flat_df['Day'] = flat_df['Date'].dt.day"
   ]
  },
  {
   "cell_type": "code",
   "execution_count": 38,
   "id": "1aa4908e",
   "metadata": {},
   "outputs": [
    {
     "data": {
      "text/html": [
       "<div>\n",
       "<style scoped>\n",
       "    .dataframe tbody tr th:only-of-type {\n",
       "        vertical-align: middle;\n",
       "    }\n",
       "\n",
       "    .dataframe tbody tr th {\n",
       "        vertical-align: top;\n",
       "    }\n",
       "\n",
       "    .dataframe thead th {\n",
       "        text-align: right;\n",
       "    }\n",
       "</style>\n",
       "<table border=\"1\" class=\"dataframe\">\n",
       "  <thead>\n",
       "    <tr style=\"text-align: right;\">\n",
       "      <th>Price</th>\n",
       "      <th>Date</th>\n",
       "      <th>Ticker</th>\n",
       "      <th>Open</th>\n",
       "      <th>High</th>\n",
       "      <th>Low</th>\n",
       "      <th>Close</th>\n",
       "      <th>Volume</th>\n",
       "      <th>Year</th>\n",
       "      <th>Month</th>\n",
       "      <th>Day</th>\n",
       "    </tr>\n",
       "  </thead>\n",
       "  <tbody>\n",
       "    <tr>\n",
       "      <th>0</th>\n",
       "      <td>2015-01-02</td>\n",
       "      <td>BYD</td>\n",
       "      <td>12.157741</td>\n",
       "      <td>12.176619</td>\n",
       "      <td>11.496994</td>\n",
       "      <td>11.808489</td>\n",
       "      <td>1354500.0</td>\n",
       "      <td>2015</td>\n",
       "      <td>1</td>\n",
       "      <td>2</td>\n",
       "    </tr>\n",
       "  </tbody>\n",
       "</table>\n",
       "</div>"
      ],
      "text/plain": [
       "Price       Date Ticker       Open       High        Low      Close  \\\n",
       "0     2015-01-02    BYD  12.157741  12.176619  11.496994  11.808489   \n",
       "\n",
       "Price     Volume  Year  Month  Day  \n",
       "0      1354500.0  2015      1    2  "
      ]
     },
     "execution_count": 38,
     "metadata": {},
     "output_type": "execute_result"
    }
   ],
   "source": [
    "flat_df.head(1)"
   ]
  },
  {
   "cell_type": "code",
   "execution_count": 39,
   "id": "ca12ad7c",
   "metadata": {},
   "outputs": [
    {
     "data": {
      "text/plain": [
       "(14351, 10)"
      ]
     },
     "execution_count": 39,
     "metadata": {},
     "output_type": "execute_result"
    }
   ],
   "source": [
    "flat_df.shape"
   ]
  },
  {
   "cell_type": "code",
   "execution_count": 40,
   "id": "5bab32eb",
   "metadata": {},
   "outputs": [
    {
     "data": {
      "text/plain": [
       "array(['BYD', 'CZR', 'MGM', 'PENN', 'WYNN', 'DKNG'], dtype=object)"
      ]
     },
     "execution_count": 40,
     "metadata": {},
     "output_type": "execute_result"
    }
   ],
   "source": [
    "## Which companies will be included in this index\n",
    "flat_df['Ticker'].unique()"
   ]
  },
  {
   "cell_type": "code",
   "execution_count": 41,
   "id": "775d78dc",
   "metadata": {},
   "outputs": [
    {
     "data": {
      "text/plain": [
       "(Timestamp('2015-01-02 00:00:00'), Timestamp('2025-04-09 00:00:00'))"
      ]
     },
     "execution_count": 41,
     "metadata": {},
     "output_type": "execute_result"
    }
   ],
   "source": [
    "## From 2015 to today\n",
    "flat_df['Date'].min(), flat_df['Date'].max()"
   ]
  },
  {
   "cell_type": "markdown",
   "id": "55b2f6bf",
   "metadata": {},
   "source": [
    "## How are we going to weigh this out?"
   ]
  },
  {
   "cell_type": "code",
   "execution_count": 42,
   "id": "e2a5f23d",
   "metadata": {},
   "outputs": [],
   "source": [
    "## indexed since 2015\n",
    "base_date = '2015-01-02'"
   ]
  },
  {
   "cell_type": "code",
   "execution_count": 43,
   "id": "8f656e6d",
   "metadata": {},
   "outputs": [],
   "source": [
    "## Base Prices using earliest date available\n",
    "base_prices = flat_df[flat_df['Date'] == base_date][['Ticker','Close']]"
   ]
  },
  {
   "cell_type": "code",
   "execution_count": 44,
   "id": "c3458d41",
   "metadata": {},
   "outputs": [],
   "source": [
    "## Generating Base Price as a Column\n",
    "flat_df= flat_df.merge(base_prices, on='Ticker', suffixes=('', '_base'))"
   ]
  },
  {
   "cell_type": "code",
   "execution_count": 45,
   "id": "606965ad",
   "metadata": {},
   "outputs": [
    {
     "data": {
      "text/html": [
       "<div>\n",
       "<style scoped>\n",
       "    .dataframe tbody tr th:only-of-type {\n",
       "        vertical-align: middle;\n",
       "    }\n",
       "\n",
       "    .dataframe tbody tr th {\n",
       "        vertical-align: top;\n",
       "    }\n",
       "\n",
       "    .dataframe thead th {\n",
       "        text-align: right;\n",
       "    }\n",
       "</style>\n",
       "<table border=\"1\" class=\"dataframe\">\n",
       "  <thead>\n",
       "    <tr style=\"text-align: right;\">\n",
       "      <th>Price</th>\n",
       "      <th>Date</th>\n",
       "      <th>Ticker</th>\n",
       "      <th>Open</th>\n",
       "      <th>High</th>\n",
       "      <th>Low</th>\n",
       "      <th>Close</th>\n",
       "      <th>Volume</th>\n",
       "      <th>Year</th>\n",
       "      <th>Month</th>\n",
       "      <th>Day</th>\n",
       "      <th>Close_base</th>\n",
       "    </tr>\n",
       "  </thead>\n",
       "  <tbody>\n",
       "    <tr>\n",
       "      <th>0</th>\n",
       "      <td>2015-01-02</td>\n",
       "      <td>BYD</td>\n",
       "      <td>12.157741</td>\n",
       "      <td>12.176619</td>\n",
       "      <td>11.496994</td>\n",
       "      <td>11.808489</td>\n",
       "      <td>1354500.0</td>\n",
       "      <td>2015</td>\n",
       "      <td>1</td>\n",
       "      <td>2</td>\n",
       "      <td>11.808489</td>\n",
       "    </tr>\n",
       "    <tr>\n",
       "      <th>1</th>\n",
       "      <td>2015-01-05</td>\n",
       "      <td>BYD</td>\n",
       "      <td>11.732979</td>\n",
       "      <td>11.817932</td>\n",
       "      <td>11.459241</td>\n",
       "      <td>11.657465</td>\n",
       "      <td>972900.0</td>\n",
       "      <td>2015</td>\n",
       "      <td>1</td>\n",
       "      <td>5</td>\n",
       "      <td>11.808489</td>\n",
       "    </tr>\n",
       "    <tr>\n",
       "      <th>2</th>\n",
       "      <td>2015-01-06</td>\n",
       "      <td>BYD</td>\n",
       "      <td>11.638585</td>\n",
       "      <td>11.742416</td>\n",
       "      <td>11.147745</td>\n",
       "      <td>11.478118</td>\n",
       "      <td>1480200.0</td>\n",
       "      <td>2015</td>\n",
       "      <td>1</td>\n",
       "      <td>6</td>\n",
       "      <td>11.808489</td>\n",
       "    </tr>\n",
       "    <tr>\n",
       "      <th>3</th>\n",
       "      <td>2015-01-07</td>\n",
       "      <td>BYD</td>\n",
       "      <td>11.629143</td>\n",
       "      <td>11.827367</td>\n",
       "      <td>11.534751</td>\n",
       "      <td>11.808489</td>\n",
       "      <td>1033500.0</td>\n",
       "      <td>2015</td>\n",
       "      <td>1</td>\n",
       "      <td>7</td>\n",
       "      <td>11.808489</td>\n",
       "    </tr>\n",
       "    <tr>\n",
       "      <th>4</th>\n",
       "      <td>2015-01-08</td>\n",
       "      <td>BYD</td>\n",
       "      <td>11.912320</td>\n",
       "      <td>12.506992</td>\n",
       "      <td>11.912320</td>\n",
       "      <td>12.119984</td>\n",
       "      <td>2842400.0</td>\n",
       "      <td>2015</td>\n",
       "      <td>1</td>\n",
       "      <td>8</td>\n",
       "      <td>11.808489</td>\n",
       "    </tr>\n",
       "  </tbody>\n",
       "</table>\n",
       "</div>"
      ],
      "text/plain": [
       "Price       Date Ticker       Open       High        Low      Close  \\\n",
       "0     2015-01-02    BYD  12.157741  12.176619  11.496994  11.808489   \n",
       "1     2015-01-05    BYD  11.732979  11.817932  11.459241  11.657465   \n",
       "2     2015-01-06    BYD  11.638585  11.742416  11.147745  11.478118   \n",
       "3     2015-01-07    BYD  11.629143  11.827367  11.534751  11.808489   \n",
       "4     2015-01-08    BYD  11.912320  12.506992  11.912320  12.119984   \n",
       "\n",
       "Price     Volume  Year  Month  Day  Close_base  \n",
       "0      1354500.0  2015      1    2   11.808489  \n",
       "1       972900.0  2015      1    5   11.808489  \n",
       "2      1480200.0  2015      1    6   11.808489  \n",
       "3      1033500.0  2015      1    7   11.808489  \n",
       "4      2842400.0  2015      1    8   11.808489  "
      ]
     },
     "execution_count": 45,
     "metadata": {},
     "output_type": "execute_result"
    }
   ],
   "source": [
    "flat_df.head(5)"
   ]
  },
  {
   "cell_type": "code",
   "execution_count": 46,
   "id": "5e7f4ebe",
   "metadata": {},
   "outputs": [],
   "source": [
    "## Need to get Market Cap for weighted average"
   ]
  },
  {
   "cell_type": "code",
   "execution_count": 47,
   "id": "7bfbfd22",
   "metadata": {},
   "outputs": [],
   "source": [
    "market_cap_list = []"
   ]
  },
  {
   "cell_type": "code",
   "execution_count": 48,
   "id": "162ddce0",
   "metadata": {},
   "outputs": [],
   "source": [
    "for ticker in tickers:\n",
    "    try:\n",
    "        info = yf.Ticker(ticker).info\n",
    "        market_cap = info.get('marketCap')\n",
    "        market_cap_list.append({'Ticker': ticker, 'MarketCap': market_cap})\n",
    "    except Exception as e:\n",
    "        print(f\"Failed to fetch {ticker}: {e}\")\n",
    "        market_cap_list.append({'Ticker': ticker, 'MarketCap': None})"
   ]
  },
  {
   "cell_type": "code",
   "execution_count": 49,
   "id": "be82f8fe",
   "metadata": {},
   "outputs": [],
   "source": [
    "market_caps = pd.DataFrame(market_cap_list)"
   ]
  },
  {
   "cell_type": "code",
   "execution_count": 50,
   "id": "53d87bf4",
   "metadata": {},
   "outputs": [
    {
     "data": {
      "text/html": [
       "<div>\n",
       "<style scoped>\n",
       "    .dataframe tbody tr th:only-of-type {\n",
       "        vertical-align: middle;\n",
       "    }\n",
       "\n",
       "    .dataframe tbody tr th {\n",
       "        vertical-align: top;\n",
       "    }\n",
       "\n",
       "    .dataframe thead th {\n",
       "        text-align: right;\n",
       "    }\n",
       "</style>\n",
       "<table border=\"1\" class=\"dataframe\">\n",
       "  <thead>\n",
       "    <tr style=\"text-align: right;\">\n",
       "      <th></th>\n",
       "      <th>Ticker</th>\n",
       "      <th>MarketCap</th>\n",
       "    </tr>\n",
       "  </thead>\n",
       "  <tbody>\n",
       "    <tr>\n",
       "      <th>0</th>\n",
       "      <td>MGM</td>\n",
       "      <td>8546541568</td>\n",
       "    </tr>\n",
       "    <tr>\n",
       "      <th>1</th>\n",
       "      <td>CZR</td>\n",
       "      <td>5845198336</td>\n",
       "    </tr>\n",
       "    <tr>\n",
       "      <th>2</th>\n",
       "      <td>WYNN</td>\n",
       "      <td>8050643968</td>\n",
       "    </tr>\n",
       "    <tr>\n",
       "      <th>3</th>\n",
       "      <td>PENN</td>\n",
       "      <td>2489977344</td>\n",
       "    </tr>\n",
       "    <tr>\n",
       "      <th>4</th>\n",
       "      <td>DKNG</td>\n",
       "      <td>17918423040</td>\n",
       "    </tr>\n",
       "    <tr>\n",
       "      <th>5</th>\n",
       "      <td>BYD</td>\n",
       "      <td>5573733376</td>\n",
       "    </tr>\n",
       "  </tbody>\n",
       "</table>\n",
       "</div>"
      ],
      "text/plain": [
       "  Ticker    MarketCap\n",
       "0    MGM   8546541568\n",
       "1    CZR   5845198336\n",
       "2   WYNN   8050643968\n",
       "3   PENN   2489977344\n",
       "4   DKNG  17918423040\n",
       "5    BYD   5573733376"
      ]
     },
     "execution_count": 50,
     "metadata": {},
     "output_type": "execute_result"
    }
   ],
   "source": [
    "market_caps"
   ]
  },
  {
   "cell_type": "code",
   "execution_count": 51,
   "id": "d20683d5",
   "metadata": {},
   "outputs": [],
   "source": [
    "## Merging with maket cap, right now its static\n",
    "flat_df = flat_df.merge(market_caps, on= \"Ticker\", how='left')"
   ]
  },
  {
   "cell_type": "code",
   "execution_count": 52,
   "id": "d0a12539",
   "metadata": {},
   "outputs": [
    {
     "data": {
      "text/html": [
       "<div>\n",
       "<style scoped>\n",
       "    .dataframe tbody tr th:only-of-type {\n",
       "        vertical-align: middle;\n",
       "    }\n",
       "\n",
       "    .dataframe tbody tr th {\n",
       "        vertical-align: top;\n",
       "    }\n",
       "\n",
       "    .dataframe thead th {\n",
       "        text-align: right;\n",
       "    }\n",
       "</style>\n",
       "<table border=\"1\" class=\"dataframe\">\n",
       "  <thead>\n",
       "    <tr style=\"text-align: right;\">\n",
       "      <th></th>\n",
       "      <th>Date</th>\n",
       "      <th>Ticker</th>\n",
       "      <th>Open</th>\n",
       "      <th>High</th>\n",
       "      <th>Low</th>\n",
       "      <th>Close</th>\n",
       "      <th>Volume</th>\n",
       "      <th>Year</th>\n",
       "      <th>Month</th>\n",
       "      <th>Day</th>\n",
       "      <th>Close_base</th>\n",
       "      <th>MarketCap</th>\n",
       "    </tr>\n",
       "  </thead>\n",
       "  <tbody>\n",
       "    <tr>\n",
       "      <th>0</th>\n",
       "      <td>2015-01-02</td>\n",
       "      <td>BYD</td>\n",
       "      <td>12.157741</td>\n",
       "      <td>12.176619</td>\n",
       "      <td>11.496994</td>\n",
       "      <td>11.808489</td>\n",
       "      <td>1354500.0</td>\n",
       "      <td>2015</td>\n",
       "      <td>1</td>\n",
       "      <td>2</td>\n",
       "      <td>11.808489</td>\n",
       "      <td>5573733376</td>\n",
       "    </tr>\n",
       "    <tr>\n",
       "      <th>1</th>\n",
       "      <td>2015-01-05</td>\n",
       "      <td>BYD</td>\n",
       "      <td>11.732979</td>\n",
       "      <td>11.817932</td>\n",
       "      <td>11.459241</td>\n",
       "      <td>11.657465</td>\n",
       "      <td>972900.0</td>\n",
       "      <td>2015</td>\n",
       "      <td>1</td>\n",
       "      <td>5</td>\n",
       "      <td>11.808489</td>\n",
       "      <td>5573733376</td>\n",
       "    </tr>\n",
       "    <tr>\n",
       "      <th>2</th>\n",
       "      <td>2015-01-06</td>\n",
       "      <td>BYD</td>\n",
       "      <td>11.638585</td>\n",
       "      <td>11.742416</td>\n",
       "      <td>11.147745</td>\n",
       "      <td>11.478118</td>\n",
       "      <td>1480200.0</td>\n",
       "      <td>2015</td>\n",
       "      <td>1</td>\n",
       "      <td>6</td>\n",
       "      <td>11.808489</td>\n",
       "      <td>5573733376</td>\n",
       "    </tr>\n",
       "    <tr>\n",
       "      <th>3</th>\n",
       "      <td>2015-01-07</td>\n",
       "      <td>BYD</td>\n",
       "      <td>11.629143</td>\n",
       "      <td>11.827367</td>\n",
       "      <td>11.534751</td>\n",
       "      <td>11.808489</td>\n",
       "      <td>1033500.0</td>\n",
       "      <td>2015</td>\n",
       "      <td>1</td>\n",
       "      <td>7</td>\n",
       "      <td>11.808489</td>\n",
       "      <td>5573733376</td>\n",
       "    </tr>\n",
       "    <tr>\n",
       "      <th>4</th>\n",
       "      <td>2015-01-08</td>\n",
       "      <td>BYD</td>\n",
       "      <td>11.912320</td>\n",
       "      <td>12.506992</td>\n",
       "      <td>11.912320</td>\n",
       "      <td>12.119984</td>\n",
       "      <td>2842400.0</td>\n",
       "      <td>2015</td>\n",
       "      <td>1</td>\n",
       "      <td>8</td>\n",
       "      <td>11.808489</td>\n",
       "      <td>5573733376</td>\n",
       "    </tr>\n",
       "    <tr>\n",
       "      <th>...</th>\n",
       "      <td>...</td>\n",
       "      <td>...</td>\n",
       "      <td>...</td>\n",
       "      <td>...</td>\n",
       "      <td>...</td>\n",
       "      <td>...</td>\n",
       "      <td>...</td>\n",
       "      <td>...</td>\n",
       "      <td>...</td>\n",
       "      <td>...</td>\n",
       "      <td>...</td>\n",
       "      <td>...</td>\n",
       "    </tr>\n",
       "    <tr>\n",
       "      <th>12910</th>\n",
       "      <td>2025-04-03</td>\n",
       "      <td>WYNN</td>\n",
       "      <td>78.500000</td>\n",
       "      <td>78.629997</td>\n",
       "      <td>72.500000</td>\n",
       "      <td>72.879997</td>\n",
       "      <td>5509100.0</td>\n",
       "      <td>2025</td>\n",
       "      <td>4</td>\n",
       "      <td>3</td>\n",
       "      <td>126.880692</td>\n",
       "      <td>8050643968</td>\n",
       "    </tr>\n",
       "    <tr>\n",
       "      <th>12911</th>\n",
       "      <td>2025-04-04</td>\n",
       "      <td>WYNN</td>\n",
       "      <td>68.610001</td>\n",
       "      <td>71.269997</td>\n",
       "      <td>66.199997</td>\n",
       "      <td>70.089996</td>\n",
       "      <td>8307700.0</td>\n",
       "      <td>2025</td>\n",
       "      <td>4</td>\n",
       "      <td>4</td>\n",
       "      <td>126.880692</td>\n",
       "      <td>8050643968</td>\n",
       "    </tr>\n",
       "    <tr>\n",
       "      <th>12912</th>\n",
       "      <td>2025-04-07</td>\n",
       "      <td>WYNN</td>\n",
       "      <td>67.980003</td>\n",
       "      <td>72.489998</td>\n",
       "      <td>66.599998</td>\n",
       "      <td>67.930000</td>\n",
       "      <td>4359300.0</td>\n",
       "      <td>2025</td>\n",
       "      <td>4</td>\n",
       "      <td>7</td>\n",
       "      <td>126.880692</td>\n",
       "      <td>8050643968</td>\n",
       "    </tr>\n",
       "    <tr>\n",
       "      <th>12913</th>\n",
       "      <td>2025-04-08</td>\n",
       "      <td>WYNN</td>\n",
       "      <td>70.239998</td>\n",
       "      <td>71.129997</td>\n",
       "      <td>65.250000</td>\n",
       "      <td>66.099998</td>\n",
       "      <td>4088400.0</td>\n",
       "      <td>2025</td>\n",
       "      <td>4</td>\n",
       "      <td>8</td>\n",
       "      <td>126.880692</td>\n",
       "      <td>8050643968</td>\n",
       "    </tr>\n",
       "    <tr>\n",
       "      <th>12914</th>\n",
       "      <td>2025-04-09</td>\n",
       "      <td>WYNN</td>\n",
       "      <td>65.930000</td>\n",
       "      <td>76.739899</td>\n",
       "      <td>65.720001</td>\n",
       "      <td>75.830002</td>\n",
       "      <td>7565039.0</td>\n",
       "      <td>2025</td>\n",
       "      <td>4</td>\n",
       "      <td>9</td>\n",
       "      <td>126.880692</td>\n",
       "      <td>8050643968</td>\n",
       "    </tr>\n",
       "  </tbody>\n",
       "</table>\n",
       "<p>12915 rows × 12 columns</p>\n",
       "</div>"
      ],
      "text/plain": [
       "            Date Ticker       Open       High        Low      Close  \\\n",
       "0     2015-01-02    BYD  12.157741  12.176619  11.496994  11.808489   \n",
       "1     2015-01-05    BYD  11.732979  11.817932  11.459241  11.657465   \n",
       "2     2015-01-06    BYD  11.638585  11.742416  11.147745  11.478118   \n",
       "3     2015-01-07    BYD  11.629143  11.827367  11.534751  11.808489   \n",
       "4     2015-01-08    BYD  11.912320  12.506992  11.912320  12.119984   \n",
       "...          ...    ...        ...        ...        ...        ...   \n",
       "12910 2025-04-03   WYNN  78.500000  78.629997  72.500000  72.879997   \n",
       "12911 2025-04-04   WYNN  68.610001  71.269997  66.199997  70.089996   \n",
       "12912 2025-04-07   WYNN  67.980003  72.489998  66.599998  67.930000   \n",
       "12913 2025-04-08   WYNN  70.239998  71.129997  65.250000  66.099998   \n",
       "12914 2025-04-09   WYNN  65.930000  76.739899  65.720001  75.830002   \n",
       "\n",
       "          Volume  Year  Month  Day  Close_base   MarketCap  \n",
       "0      1354500.0  2015      1    2   11.808489  5573733376  \n",
       "1       972900.0  2015      1    5   11.808489  5573733376  \n",
       "2      1480200.0  2015      1    6   11.808489  5573733376  \n",
       "3      1033500.0  2015      1    7   11.808489  5573733376  \n",
       "4      2842400.0  2015      1    8   11.808489  5573733376  \n",
       "...          ...   ...    ...  ...         ...         ...  \n",
       "12910  5509100.0  2025      4    3  126.880692  8050643968  \n",
       "12911  8307700.0  2025      4    4  126.880692  8050643968  \n",
       "12912  4359300.0  2025      4    7  126.880692  8050643968  \n",
       "12913  4088400.0  2025      4    8  126.880692  8050643968  \n",
       "12914  7565039.0  2025      4    9  126.880692  8050643968  \n",
       "\n",
       "[12915 rows x 12 columns]"
      ]
     },
     "execution_count": 52,
     "metadata": {},
     "output_type": "execute_result"
    }
   ],
   "source": [
    "flat_df"
   ]
  },
  {
   "cell_type": "code",
   "execution_count": 54,
   "id": "c711e222",
   "metadata": {},
   "outputs": [
    {
     "data": {
      "text/html": [
       "<div>\n",
       "<style scoped>\n",
       "    .dataframe tbody tr th:only-of-type {\n",
       "        vertical-align: middle;\n",
       "    }\n",
       "\n",
       "    .dataframe tbody tr th {\n",
       "        vertical-align: top;\n",
       "    }\n",
       "\n",
       "    .dataframe thead th {\n",
       "        text-align: right;\n",
       "    }\n",
       "</style>\n",
       "<table border=\"1\" class=\"dataframe\">\n",
       "  <thead>\n",
       "    <tr style=\"text-align: right;\">\n",
       "      <th></th>\n",
       "      <th>Date</th>\n",
       "      <th>Ticker</th>\n",
       "      <th>Open</th>\n",
       "      <th>High</th>\n",
       "      <th>Low</th>\n",
       "      <th>Close</th>\n",
       "      <th>Volume</th>\n",
       "      <th>Year</th>\n",
       "      <th>Month</th>\n",
       "      <th>Day</th>\n",
       "      <th>Close_base</th>\n",
       "      <th>MarketCap</th>\n",
       "    </tr>\n",
       "  </thead>\n",
       "  <tbody>\n",
       "    <tr>\n",
       "      <th>0</th>\n",
       "      <td>2015-01-02</td>\n",
       "      <td>BYD</td>\n",
       "      <td>12.157741</td>\n",
       "      <td>12.176619</td>\n",
       "      <td>11.496994</td>\n",
       "      <td>11.808489</td>\n",
       "      <td>1354500.0</td>\n",
       "      <td>2015</td>\n",
       "      <td>1</td>\n",
       "      <td>2</td>\n",
       "      <td>11.808489</td>\n",
       "      <td>5573733376</td>\n",
       "    </tr>\n",
       "    <tr>\n",
       "      <th>1</th>\n",
       "      <td>2015-01-05</td>\n",
       "      <td>BYD</td>\n",
       "      <td>11.732979</td>\n",
       "      <td>11.817932</td>\n",
       "      <td>11.459241</td>\n",
       "      <td>11.657465</td>\n",
       "      <td>972900.0</td>\n",
       "      <td>2015</td>\n",
       "      <td>1</td>\n",
       "      <td>5</td>\n",
       "      <td>11.808489</td>\n",
       "      <td>5573733376</td>\n",
       "    </tr>\n",
       "    <tr>\n",
       "      <th>2</th>\n",
       "      <td>2015-01-06</td>\n",
       "      <td>BYD</td>\n",
       "      <td>11.638585</td>\n",
       "      <td>11.742416</td>\n",
       "      <td>11.147745</td>\n",
       "      <td>11.478118</td>\n",
       "      <td>1480200.0</td>\n",
       "      <td>2015</td>\n",
       "      <td>1</td>\n",
       "      <td>6</td>\n",
       "      <td>11.808489</td>\n",
       "      <td>5573733376</td>\n",
       "    </tr>\n",
       "    <tr>\n",
       "      <th>3</th>\n",
       "      <td>2015-01-07</td>\n",
       "      <td>BYD</td>\n",
       "      <td>11.629143</td>\n",
       "      <td>11.827367</td>\n",
       "      <td>11.534751</td>\n",
       "      <td>11.808489</td>\n",
       "      <td>1033500.0</td>\n",
       "      <td>2015</td>\n",
       "      <td>1</td>\n",
       "      <td>7</td>\n",
       "      <td>11.808489</td>\n",
       "      <td>5573733376</td>\n",
       "    </tr>\n",
       "    <tr>\n",
       "      <th>4</th>\n",
       "      <td>2015-01-08</td>\n",
       "      <td>BYD</td>\n",
       "      <td>11.912320</td>\n",
       "      <td>12.506992</td>\n",
       "      <td>11.912320</td>\n",
       "      <td>12.119984</td>\n",
       "      <td>2842400.0</td>\n",
       "      <td>2015</td>\n",
       "      <td>1</td>\n",
       "      <td>8</td>\n",
       "      <td>11.808489</td>\n",
       "      <td>5573733376</td>\n",
       "    </tr>\n",
       "    <tr>\n",
       "      <th>...</th>\n",
       "      <td>...</td>\n",
       "      <td>...</td>\n",
       "      <td>...</td>\n",
       "      <td>...</td>\n",
       "      <td>...</td>\n",
       "      <td>...</td>\n",
       "      <td>...</td>\n",
       "      <td>...</td>\n",
       "      <td>...</td>\n",
       "      <td>...</td>\n",
       "      <td>...</td>\n",
       "      <td>...</td>\n",
       "    </tr>\n",
       "    <tr>\n",
       "      <th>12910</th>\n",
       "      <td>2025-04-03</td>\n",
       "      <td>WYNN</td>\n",
       "      <td>78.500000</td>\n",
       "      <td>78.629997</td>\n",
       "      <td>72.500000</td>\n",
       "      <td>72.879997</td>\n",
       "      <td>5509100.0</td>\n",
       "      <td>2025</td>\n",
       "      <td>4</td>\n",
       "      <td>3</td>\n",
       "      <td>126.880692</td>\n",
       "      <td>8050643968</td>\n",
       "    </tr>\n",
       "    <tr>\n",
       "      <th>12911</th>\n",
       "      <td>2025-04-04</td>\n",
       "      <td>WYNN</td>\n",
       "      <td>68.610001</td>\n",
       "      <td>71.269997</td>\n",
       "      <td>66.199997</td>\n",
       "      <td>70.089996</td>\n",
       "      <td>8307700.0</td>\n",
       "      <td>2025</td>\n",
       "      <td>4</td>\n",
       "      <td>4</td>\n",
       "      <td>126.880692</td>\n",
       "      <td>8050643968</td>\n",
       "    </tr>\n",
       "    <tr>\n",
       "      <th>12912</th>\n",
       "      <td>2025-04-07</td>\n",
       "      <td>WYNN</td>\n",
       "      <td>67.980003</td>\n",
       "      <td>72.489998</td>\n",
       "      <td>66.599998</td>\n",
       "      <td>67.930000</td>\n",
       "      <td>4359300.0</td>\n",
       "      <td>2025</td>\n",
       "      <td>4</td>\n",
       "      <td>7</td>\n",
       "      <td>126.880692</td>\n",
       "      <td>8050643968</td>\n",
       "    </tr>\n",
       "    <tr>\n",
       "      <th>12913</th>\n",
       "      <td>2025-04-08</td>\n",
       "      <td>WYNN</td>\n",
       "      <td>70.239998</td>\n",
       "      <td>71.129997</td>\n",
       "      <td>65.250000</td>\n",
       "      <td>66.099998</td>\n",
       "      <td>4088400.0</td>\n",
       "      <td>2025</td>\n",
       "      <td>4</td>\n",
       "      <td>8</td>\n",
       "      <td>126.880692</td>\n",
       "      <td>8050643968</td>\n",
       "    </tr>\n",
       "    <tr>\n",
       "      <th>12914</th>\n",
       "      <td>2025-04-09</td>\n",
       "      <td>WYNN</td>\n",
       "      <td>65.930000</td>\n",
       "      <td>76.739899</td>\n",
       "      <td>65.720001</td>\n",
       "      <td>75.830002</td>\n",
       "      <td>7565039.0</td>\n",
       "      <td>2025</td>\n",
       "      <td>4</td>\n",
       "      <td>9</td>\n",
       "      <td>126.880692</td>\n",
       "      <td>8050643968</td>\n",
       "    </tr>\n",
       "  </tbody>\n",
       "</table>\n",
       "<p>12915 rows × 12 columns</p>\n",
       "</div>"
      ],
      "text/plain": [
       "            Date Ticker       Open       High        Low      Close  \\\n",
       "0     2015-01-02    BYD  12.157741  12.176619  11.496994  11.808489   \n",
       "1     2015-01-05    BYD  11.732979  11.817932  11.459241  11.657465   \n",
       "2     2015-01-06    BYD  11.638585  11.742416  11.147745  11.478118   \n",
       "3     2015-01-07    BYD  11.629143  11.827367  11.534751  11.808489   \n",
       "4     2015-01-08    BYD  11.912320  12.506992  11.912320  12.119984   \n",
       "...          ...    ...        ...        ...        ...        ...   \n",
       "12910 2025-04-03   WYNN  78.500000  78.629997  72.500000  72.879997   \n",
       "12911 2025-04-04   WYNN  68.610001  71.269997  66.199997  70.089996   \n",
       "12912 2025-04-07   WYNN  67.980003  72.489998  66.599998  67.930000   \n",
       "12913 2025-04-08   WYNN  70.239998  71.129997  65.250000  66.099998   \n",
       "12914 2025-04-09   WYNN  65.930000  76.739899  65.720001  75.830002   \n",
       "\n",
       "          Volume  Year  Month  Day  Close_base   MarketCap  \n",
       "0      1354500.0  2015      1    2   11.808489  5573733376  \n",
       "1       972900.0  2015      1    5   11.808489  5573733376  \n",
       "2      1480200.0  2015      1    6   11.808489  5573733376  \n",
       "3      1033500.0  2015      1    7   11.808489  5573733376  \n",
       "4      2842400.0  2015      1    8   11.808489  5573733376  \n",
       "...          ...   ...    ...  ...         ...         ...  \n",
       "12910  5509100.0  2025      4    3  126.880692  8050643968  \n",
       "12911  8307700.0  2025      4    4  126.880692  8050643968  \n",
       "12912  4359300.0  2025      4    7  126.880692  8050643968  \n",
       "12913  4088400.0  2025      4    8  126.880692  8050643968  \n",
       "12914  7565039.0  2025      4    9  126.880692  8050643968  \n",
       "\n",
       "[12915 rows x 12 columns]"
      ]
     },
     "execution_count": 54,
     "metadata": {},
     "output_type": "execute_result"
    }
   ],
   "source": [
    "flat_df"
   ]
  },
  {
   "cell_type": "code",
   "execution_count": 55,
   "id": "85dea9ca",
   "metadata": {},
   "outputs": [],
   "source": [
    "flat_df['Normalized'] = flat_df['Close'] / flat_df['Close_base'] * 100"
   ]
  },
  {
   "cell_type": "code",
   "execution_count": 56,
   "id": "2c18ecdf",
   "metadata": {},
   "outputs": [
    {
     "data": {
      "text/html": [
       "<div>\n",
       "<style scoped>\n",
       "    .dataframe tbody tr th:only-of-type {\n",
       "        vertical-align: middle;\n",
       "    }\n",
       "\n",
       "    .dataframe tbody tr th {\n",
       "        vertical-align: top;\n",
       "    }\n",
       "\n",
       "    .dataframe thead th {\n",
       "        text-align: right;\n",
       "    }\n",
       "</style>\n",
       "<table border=\"1\" class=\"dataframe\">\n",
       "  <thead>\n",
       "    <tr style=\"text-align: right;\">\n",
       "      <th></th>\n",
       "      <th>Date</th>\n",
       "      <th>Ticker</th>\n",
       "      <th>Open</th>\n",
       "      <th>High</th>\n",
       "      <th>Low</th>\n",
       "      <th>Close</th>\n",
       "      <th>Volume</th>\n",
       "      <th>Year</th>\n",
       "      <th>Month</th>\n",
       "      <th>Day</th>\n",
       "      <th>Close_base</th>\n",
       "      <th>MarketCap</th>\n",
       "      <th>Normalized</th>\n",
       "    </tr>\n",
       "  </thead>\n",
       "  <tbody>\n",
       "    <tr>\n",
       "      <th>0</th>\n",
       "      <td>2015-01-02</td>\n",
       "      <td>BYD</td>\n",
       "      <td>12.157741</td>\n",
       "      <td>12.176619</td>\n",
       "      <td>11.496994</td>\n",
       "      <td>11.808489</td>\n",
       "      <td>1354500.0</td>\n",
       "      <td>2015</td>\n",
       "      <td>1</td>\n",
       "      <td>2</td>\n",
       "      <td>11.808489</td>\n",
       "      <td>5573733376</td>\n",
       "      <td>100.000000</td>\n",
       "    </tr>\n",
       "    <tr>\n",
       "      <th>1</th>\n",
       "      <td>2015-01-05</td>\n",
       "      <td>BYD</td>\n",
       "      <td>11.732979</td>\n",
       "      <td>11.817932</td>\n",
       "      <td>11.459241</td>\n",
       "      <td>11.657465</td>\n",
       "      <td>972900.0</td>\n",
       "      <td>2015</td>\n",
       "      <td>1</td>\n",
       "      <td>5</td>\n",
       "      <td>11.808489</td>\n",
       "      <td>5573733376</td>\n",
       "      <td>98.721057</td>\n",
       "    </tr>\n",
       "    <tr>\n",
       "      <th>2</th>\n",
       "      <td>2015-01-06</td>\n",
       "      <td>BYD</td>\n",
       "      <td>11.638585</td>\n",
       "      <td>11.742416</td>\n",
       "      <td>11.147745</td>\n",
       "      <td>11.478118</td>\n",
       "      <td>1480200.0</td>\n",
       "      <td>2015</td>\n",
       "      <td>1</td>\n",
       "      <td>6</td>\n",
       "      <td>11.808489</td>\n",
       "      <td>5573733376</td>\n",
       "      <td>97.202259</td>\n",
       "    </tr>\n",
       "    <tr>\n",
       "      <th>3</th>\n",
       "      <td>2015-01-07</td>\n",
       "      <td>BYD</td>\n",
       "      <td>11.629143</td>\n",
       "      <td>11.827367</td>\n",
       "      <td>11.534751</td>\n",
       "      <td>11.808489</td>\n",
       "      <td>1033500.0</td>\n",
       "      <td>2015</td>\n",
       "      <td>1</td>\n",
       "      <td>7</td>\n",
       "      <td>11.808489</td>\n",
       "      <td>5573733376</td>\n",
       "      <td>100.000000</td>\n",
       "    </tr>\n",
       "    <tr>\n",
       "      <th>4</th>\n",
       "      <td>2015-01-08</td>\n",
       "      <td>BYD</td>\n",
       "      <td>11.912320</td>\n",
       "      <td>12.506992</td>\n",
       "      <td>11.912320</td>\n",
       "      <td>12.119984</td>\n",
       "      <td>2842400.0</td>\n",
       "      <td>2015</td>\n",
       "      <td>1</td>\n",
       "      <td>8</td>\n",
       "      <td>11.808489</td>\n",
       "      <td>5573733376</td>\n",
       "      <td>102.637889</td>\n",
       "    </tr>\n",
       "  </tbody>\n",
       "</table>\n",
       "</div>"
      ],
      "text/plain": [
       "        Date Ticker       Open       High        Low      Close     Volume  \\\n",
       "0 2015-01-02    BYD  12.157741  12.176619  11.496994  11.808489  1354500.0   \n",
       "1 2015-01-05    BYD  11.732979  11.817932  11.459241  11.657465   972900.0   \n",
       "2 2015-01-06    BYD  11.638585  11.742416  11.147745  11.478118  1480200.0   \n",
       "3 2015-01-07    BYD  11.629143  11.827367  11.534751  11.808489  1033500.0   \n",
       "4 2015-01-08    BYD  11.912320  12.506992  11.912320  12.119984  2842400.0   \n",
       "\n",
       "   Year  Month  Day  Close_base   MarketCap  Normalized  \n",
       "0  2015      1    2   11.808489  5573733376  100.000000  \n",
       "1  2015      1    5   11.808489  5573733376   98.721057  \n",
       "2  2015      1    6   11.808489  5573733376   97.202259  \n",
       "3  2015      1    7   11.808489  5573733376  100.000000  \n",
       "4  2015      1    8   11.808489  5573733376  102.637889  "
      ]
     },
     "execution_count": 56,
     "metadata": {},
     "output_type": "execute_result"
    }
   ],
   "source": [
    "flat_df.head(5)"
   ]
  },
  {
   "cell_type": "code",
   "execution_count": 57,
   "id": "d3efc5c4",
   "metadata": {},
   "outputs": [],
   "source": [
    "index = flat_df.groupby('Date')['Normalized'].mean().reset_index(name='IndexValue')"
   ]
  },
  {
   "cell_type": "code",
   "execution_count": 58,
   "id": "b78ed83b",
   "metadata": {},
   "outputs": [
    {
     "data": {
      "text/html": [
       "<div>\n",
       "<style scoped>\n",
       "    .dataframe tbody tr th:only-of-type {\n",
       "        vertical-align: middle;\n",
       "    }\n",
       "\n",
       "    .dataframe tbody tr th {\n",
       "        vertical-align: top;\n",
       "    }\n",
       "\n",
       "    .dataframe thead th {\n",
       "        text-align: right;\n",
       "    }\n",
       "</style>\n",
       "<table border=\"1\" class=\"dataframe\">\n",
       "  <thead>\n",
       "    <tr style=\"text-align: right;\">\n",
       "      <th></th>\n",
       "      <th>Date</th>\n",
       "      <th>IndexValue</th>\n",
       "    </tr>\n",
       "  </thead>\n",
       "  <tbody>\n",
       "    <tr>\n",
       "      <th>0</th>\n",
       "      <td>2015-01-02</td>\n",
       "      <td>100.000000</td>\n",
       "    </tr>\n",
       "    <tr>\n",
       "      <th>1</th>\n",
       "      <td>2015-01-05</td>\n",
       "      <td>99.461304</td>\n",
       "    </tr>\n",
       "    <tr>\n",
       "      <th>2</th>\n",
       "      <td>2015-01-06</td>\n",
       "      <td>97.134628</td>\n",
       "    </tr>\n",
       "    <tr>\n",
       "      <th>3</th>\n",
       "      <td>2015-01-07</td>\n",
       "      <td>101.594317</td>\n",
       "    </tr>\n",
       "    <tr>\n",
       "      <th>4</th>\n",
       "      <td>2015-01-08</td>\n",
       "      <td>102.620817</td>\n",
       "    </tr>\n",
       "    <tr>\n",
       "      <th>...</th>\n",
       "      <td>...</td>\n",
       "      <td>...</td>\n",
       "    </tr>\n",
       "    <tr>\n",
       "      <th>2578</th>\n",
       "      <td>2025-04-03</td>\n",
       "      <td>287.502429</td>\n",
       "    </tr>\n",
       "    <tr>\n",
       "      <th>2579</th>\n",
       "      <td>2025-04-04</td>\n",
       "      <td>278.680139</td>\n",
       "    </tr>\n",
       "    <tr>\n",
       "      <th>2580</th>\n",
       "      <td>2025-04-07</td>\n",
       "      <td>279.358410</td>\n",
       "    </tr>\n",
       "    <tr>\n",
       "      <th>2581</th>\n",
       "      <td>2025-04-08</td>\n",
       "      <td>276.162901</td>\n",
       "    </tr>\n",
       "    <tr>\n",
       "      <th>2582</th>\n",
       "      <td>2025-04-09</td>\n",
       "      <td>317.152329</td>\n",
       "    </tr>\n",
       "  </tbody>\n",
       "</table>\n",
       "<p>2583 rows × 2 columns</p>\n",
       "</div>"
      ],
      "text/plain": [
       "           Date  IndexValue\n",
       "0    2015-01-02  100.000000\n",
       "1    2015-01-05   99.461304\n",
       "2    2015-01-06   97.134628\n",
       "3    2015-01-07  101.594317\n",
       "4    2015-01-08  102.620817\n",
       "...         ...         ...\n",
       "2578 2025-04-03  287.502429\n",
       "2579 2025-04-04  278.680139\n",
       "2580 2025-04-07  279.358410\n",
       "2581 2025-04-08  276.162901\n",
       "2582 2025-04-09  317.152329\n",
       "\n",
       "[2583 rows x 2 columns]"
      ]
     },
     "execution_count": 58,
     "metadata": {},
     "output_type": "execute_result"
    }
   ],
   "source": [
    "index"
   ]
  },
  {
   "cell_type": "code",
   "execution_count": 59,
   "id": "26a400aa",
   "metadata": {},
   "outputs": [
    {
     "data": {
      "text/plain": [
       "<function matplotlib.pyplot.tight_layout(*, pad=1.08, h_pad=None, w_pad=None, rect=None)>"
      ]
     },
     "execution_count": 59,
     "metadata": {},
     "output_type": "execute_result"
    },
    {
     "data": {
      "image/png": "[encoded data removed]",
      "text/plain": [
       "<Figure size 1200x600 with 1 Axes>"
      ]
     },
     "metadata": {},
     "output_type": "display_data"
    }
   ],
   "source": [
    "plt.figure(figsize=(12,6))\n",
    "sns.lineplot(data= flat_df,x='Date',y='Normalized',hue='Ticker',palette='viridis')\n",
    "plt.title('Indexed Stocks Performance Over Time', fontsize='20',fontweight='bold')\n",
    "plt.xlabel('Date',fontweight ='bold')\n",
    "plt.ylabel('Consctructed Index, 2015 = 100', fontweight='bold')\n",
    "sns.despine()\n",
    "plt.tight_layout"
   ]
  },
  {
   "cell_type": "markdown",
   "id": "ea6e3913",
   "metadata": {},
   "source": [
    "## Based on this I can say that CZRs was the stock that gathered more value in the 2022 year, it has consistently  outpaced the value since 2015. Some others such as PENN saw growth in 2021 but have not outperformed the stock price (adjusted since 2015)"
   ]
  },
  {
   "cell_type": "code",
   "execution_count": 60,
   "id": "c95fe8d1",
   "metadata": {},
   "outputs": [
    {
     "data": {
      "text/html": [
       "<div>\n",
       "<style scoped>\n",
       "    .dataframe tbody tr th:only-of-type {\n",
       "        vertical-align: middle;\n",
       "    }\n",
       "\n",
       "    .dataframe tbody tr th {\n",
       "        vertical-align: top;\n",
       "    }\n",
       "\n",
       "    .dataframe thead th {\n",
       "        text-align: right;\n",
       "    }\n",
       "</style>\n",
       "<table border=\"1\" class=\"dataframe\">\n",
       "  <thead>\n",
       "    <tr style=\"text-align: right;\">\n",
       "      <th></th>\n",
       "      <th>Date</th>\n",
       "      <th>Ticker</th>\n",
       "      <th>Open</th>\n",
       "      <th>High</th>\n",
       "      <th>Low</th>\n",
       "      <th>Close</th>\n",
       "      <th>Volume</th>\n",
       "      <th>Year</th>\n",
       "      <th>Month</th>\n",
       "      <th>Day</th>\n",
       "      <th>Close_base</th>\n",
       "      <th>MarketCap</th>\n",
       "      <th>Normalized</th>\n",
       "    </tr>\n",
       "  </thead>\n",
       "  <tbody>\n",
       "    <tr>\n",
       "      <th>0</th>\n",
       "      <td>2015-01-02</td>\n",
       "      <td>BYD</td>\n",
       "      <td>12.157741</td>\n",
       "      <td>12.176619</td>\n",
       "      <td>11.496994</td>\n",
       "      <td>11.808489</td>\n",
       "      <td>1354500.0</td>\n",
       "      <td>2015</td>\n",
       "      <td>1</td>\n",
       "      <td>2</td>\n",
       "      <td>11.808489</td>\n",
       "      <td>5573733376</td>\n",
       "      <td>100.000000</td>\n",
       "    </tr>\n",
       "    <tr>\n",
       "      <th>1</th>\n",
       "      <td>2015-01-05</td>\n",
       "      <td>BYD</td>\n",
       "      <td>11.732979</td>\n",
       "      <td>11.817932</td>\n",
       "      <td>11.459241</td>\n",
       "      <td>11.657465</td>\n",
       "      <td>972900.0</td>\n",
       "      <td>2015</td>\n",
       "      <td>1</td>\n",
       "      <td>5</td>\n",
       "      <td>11.808489</td>\n",
       "      <td>5573733376</td>\n",
       "      <td>98.721057</td>\n",
       "    </tr>\n",
       "    <tr>\n",
       "      <th>2</th>\n",
       "      <td>2015-01-06</td>\n",
       "      <td>BYD</td>\n",
       "      <td>11.638585</td>\n",
       "      <td>11.742416</td>\n",
       "      <td>11.147745</td>\n",
       "      <td>11.478118</td>\n",
       "      <td>1480200.0</td>\n",
       "      <td>2015</td>\n",
       "      <td>1</td>\n",
       "      <td>6</td>\n",
       "      <td>11.808489</td>\n",
       "      <td>5573733376</td>\n",
       "      <td>97.202259</td>\n",
       "    </tr>\n",
       "    <tr>\n",
       "      <th>3</th>\n",
       "      <td>2015-01-07</td>\n",
       "      <td>BYD</td>\n",
       "      <td>11.629143</td>\n",
       "      <td>11.827367</td>\n",
       "      <td>11.534751</td>\n",
       "      <td>11.808489</td>\n",
       "      <td>1033500.0</td>\n",
       "      <td>2015</td>\n",
       "      <td>1</td>\n",
       "      <td>7</td>\n",
       "      <td>11.808489</td>\n",
       "      <td>5573733376</td>\n",
       "      <td>100.000000</td>\n",
       "    </tr>\n",
       "    <tr>\n",
       "      <th>4</th>\n",
       "      <td>2015-01-08</td>\n",
       "      <td>BYD</td>\n",
       "      <td>11.912320</td>\n",
       "      <td>12.506992</td>\n",
       "      <td>11.912320</td>\n",
       "      <td>12.119984</td>\n",
       "      <td>2842400.0</td>\n",
       "      <td>2015</td>\n",
       "      <td>1</td>\n",
       "      <td>8</td>\n",
       "      <td>11.808489</td>\n",
       "      <td>5573733376</td>\n",
       "      <td>102.637889</td>\n",
       "    </tr>\n",
       "  </tbody>\n",
       "</table>\n",
       "</div>"
      ],
      "text/plain": [
       "        Date Ticker       Open       High        Low      Close     Volume  \\\n",
       "0 2015-01-02    BYD  12.157741  12.176619  11.496994  11.808489  1354500.0   \n",
       "1 2015-01-05    BYD  11.732979  11.817932  11.459241  11.657465   972900.0   \n",
       "2 2015-01-06    BYD  11.638585  11.742416  11.147745  11.478118  1480200.0   \n",
       "3 2015-01-07    BYD  11.629143  11.827367  11.534751  11.808489  1033500.0   \n",
       "4 2015-01-08    BYD  11.912320  12.506992  11.912320  12.119984  2842400.0   \n",
       "\n",
       "   Year  Month  Day  Close_base   MarketCap  Normalized  \n",
       "0  2015      1    2   11.808489  5573733376  100.000000  \n",
       "1  2015      1    5   11.808489  5573733376   98.721057  \n",
       "2  2015      1    6   11.808489  5573733376   97.202259  \n",
       "3  2015      1    7   11.808489  5573733376  100.000000  \n",
       "4  2015      1    8   11.808489  5573733376  102.637889  "
      ]
     },
     "execution_count": 60,
     "metadata": {},
     "output_type": "execute_result"
    }
   ],
   "source": [
    "## Possible KPIs, how much has the stock grown in nominal value by Ticker?\n",
    "flat_df.head(5)"
   ]
  },
  {
   "cell_type": "code",
   "execution_count": 61,
   "id": "f3c34fd2",
   "metadata": {},
   "outputs": [],
   "source": [
    "BYD = flat_df[flat_df['Ticker'] =='BYD']"
   ]
  },
  {
   "cell_type": "code",
   "execution_count": 62,
   "id": "a59b99e0",
   "metadata": {},
   "outputs": [
    {
     "data": {
      "text/html": [
       "<div>\n",
       "<style scoped>\n",
       "    .dataframe tbody tr th:only-of-type {\n",
       "        vertical-align: middle;\n",
       "    }\n",
       "\n",
       "    .dataframe tbody tr th {\n",
       "        vertical-align: top;\n",
       "    }\n",
       "\n",
       "    .dataframe thead th {\n",
       "        text-align: right;\n",
       "    }\n",
       "</style>\n",
       "<table border=\"1\" class=\"dataframe\">\n",
       "  <thead>\n",
       "    <tr style=\"text-align: right;\">\n",
       "      <th></th>\n",
       "      <th>Date</th>\n",
       "      <th>Ticker</th>\n",
       "      <th>Open</th>\n",
       "      <th>High</th>\n",
       "      <th>Low</th>\n",
       "      <th>Close</th>\n",
       "      <th>Volume</th>\n",
       "      <th>Year</th>\n",
       "      <th>Month</th>\n",
       "      <th>Day</th>\n",
       "      <th>Close_base</th>\n",
       "      <th>MarketCap</th>\n",
       "      <th>Normalized</th>\n",
       "    </tr>\n",
       "  </thead>\n",
       "  <tbody>\n",
       "    <tr>\n",
       "      <th>0</th>\n",
       "      <td>2015-01-02</td>\n",
       "      <td>BYD</td>\n",
       "      <td>12.157741</td>\n",
       "      <td>12.176619</td>\n",
       "      <td>11.496994</td>\n",
       "      <td>11.808489</td>\n",
       "      <td>1354500.0</td>\n",
       "      <td>2015</td>\n",
       "      <td>1</td>\n",
       "      <td>2</td>\n",
       "      <td>11.808489</td>\n",
       "      <td>5573733376</td>\n",
       "      <td>100.000000</td>\n",
       "    </tr>\n",
       "    <tr>\n",
       "      <th>1</th>\n",
       "      <td>2015-01-05</td>\n",
       "      <td>BYD</td>\n",
       "      <td>11.732979</td>\n",
       "      <td>11.817932</td>\n",
       "      <td>11.459241</td>\n",
       "      <td>11.657465</td>\n",
       "      <td>972900.0</td>\n",
       "      <td>2015</td>\n",
       "      <td>1</td>\n",
       "      <td>5</td>\n",
       "      <td>11.808489</td>\n",
       "      <td>5573733376</td>\n",
       "      <td>98.721057</td>\n",
       "    </tr>\n",
       "    <tr>\n",
       "      <th>2</th>\n",
       "      <td>2015-01-06</td>\n",
       "      <td>BYD</td>\n",
       "      <td>11.638585</td>\n",
       "      <td>11.742416</td>\n",
       "      <td>11.147745</td>\n",
       "      <td>11.478118</td>\n",
       "      <td>1480200.0</td>\n",
       "      <td>2015</td>\n",
       "      <td>1</td>\n",
       "      <td>6</td>\n",
       "      <td>11.808489</td>\n",
       "      <td>5573733376</td>\n",
       "      <td>97.202259</td>\n",
       "    </tr>\n",
       "    <tr>\n",
       "      <th>3</th>\n",
       "      <td>2015-01-07</td>\n",
       "      <td>BYD</td>\n",
       "      <td>11.629143</td>\n",
       "      <td>11.827367</td>\n",
       "      <td>11.534751</td>\n",
       "      <td>11.808489</td>\n",
       "      <td>1033500.0</td>\n",
       "      <td>2015</td>\n",
       "      <td>1</td>\n",
       "      <td>7</td>\n",
       "      <td>11.808489</td>\n",
       "      <td>5573733376</td>\n",
       "      <td>100.000000</td>\n",
       "    </tr>\n",
       "    <tr>\n",
       "      <th>4</th>\n",
       "      <td>2015-01-08</td>\n",
       "      <td>BYD</td>\n",
       "      <td>11.912320</td>\n",
       "      <td>12.506992</td>\n",
       "      <td>11.912320</td>\n",
       "      <td>12.119984</td>\n",
       "      <td>2842400.0</td>\n",
       "      <td>2015</td>\n",
       "      <td>1</td>\n",
       "      <td>8</td>\n",
       "      <td>11.808489</td>\n",
       "      <td>5573733376</td>\n",
       "      <td>102.637889</td>\n",
       "    </tr>\n",
       "  </tbody>\n",
       "</table>\n",
       "</div>"
      ],
      "text/plain": [
       "        Date Ticker       Open       High        Low      Close     Volume  \\\n",
       "0 2015-01-02    BYD  12.157741  12.176619  11.496994  11.808489  1354500.0   \n",
       "1 2015-01-05    BYD  11.732979  11.817932  11.459241  11.657465   972900.0   \n",
       "2 2015-01-06    BYD  11.638585  11.742416  11.147745  11.478118  1480200.0   \n",
       "3 2015-01-07    BYD  11.629143  11.827367  11.534751  11.808489  1033500.0   \n",
       "4 2015-01-08    BYD  11.912320  12.506992  11.912320  12.119984  2842400.0   \n",
       "\n",
       "   Year  Month  Day  Close_base   MarketCap  Normalized  \n",
       "0  2015      1    2   11.808489  5573733376  100.000000  \n",
       "1  2015      1    5   11.808489  5573733376   98.721057  \n",
       "2  2015      1    6   11.808489  5573733376   97.202259  \n",
       "3  2015      1    7   11.808489  5573733376  100.000000  \n",
       "4  2015      1    8   11.808489  5573733376  102.637889  "
      ]
     },
     "execution_count": 62,
     "metadata": {},
     "output_type": "execute_result"
    }
   ],
   "source": [
    "BYD.head(5)"
   ]
  },
  {
   "cell_type": "code",
   "execution_count": 63,
   "id": "802cd4b7",
   "metadata": {},
   "outputs": [
    {
     "data": {
      "text/plain": [
       "array(['BYD', 'CZR', 'MGM', 'PENN', 'WYNN'], dtype=object)"
      ]
     },
     "execution_count": 63,
     "metadata": {},
     "output_type": "execute_result"
    }
   ],
   "source": [
    "flat_df['Ticker'].unique()"
   ]
  },
  {
   "cell_type": "code",
   "execution_count": 64,
   "id": "4050eaf6",
   "metadata": {},
   "outputs": [],
   "source": [
    "## Nominal Growth of BYD\n",
    "BYD_start = BYD['Date'].min()\n",
    "BYD_end = BYD['Date'].max()"
   ]
  },
  {
   "cell_type": "code",
   "execution_count": 65,
   "id": "a5e80d42",
   "metadata": {},
   "outputs": [],
   "source": [
    "BYD_min = BYD.loc[BYD['Date'] == BYD_start, 'Close'].values[0]\n",
    "BYD_max = BYD.loc[BYD['Date']== BYD_end,'Close'].values[0]"
   ]
  },
  {
   "cell_type": "code",
   "execution_count": 66,
   "id": "66fb1c86",
   "metadata": {},
   "outputs": [
    {
     "data": {
      "text/plain": [
       "(11.808488845825195, 67.55000305175781)"
      ]
     },
     "execution_count": 66,
     "metadata": {},
     "output_type": "execute_result"
    }
   ],
   "source": [
    "BYD_min, BYD_max"
   ]
  },
  {
   "cell_type": "code",
   "execution_count": 67,
   "id": "71ad7742",
   "metadata": {},
   "outputs": [
    {
     "name": "stdout",
     "output_type": "stream",
     "text": [
      "The Nominal growth in USD was $55.74\n"
     ]
    }
   ],
   "source": [
    "BYD_Growth_Nominal = BYD_max-BYD_min\n",
    "print(f'The Nominal growth in USD was ${BYD_Growth_Nominal:,.2f}')"
   ]
  },
  {
   "cell_type": "code",
   "execution_count": 68,
   "id": "fd3cfde0",
   "metadata": {},
   "outputs": [
    {
     "data": {
      "text/plain": [
       "472.04612659340927"
      ]
     },
     "execution_count": 68,
     "metadata": {},
     "output_type": "execute_result"
    }
   ],
   "source": [
    "## PErcent Growth\n",
    "BYD_Growth_Percent = (BYD_max-BYD_min)/BYD_min\n",
    "BYD_Growth_Percent*100"
   ]
  },
  {
   "cell_type": "code",
   "execution_count": 69,
   "id": "80e05206",
   "metadata": {},
   "outputs": [],
   "source": [
    "## Nominal Growth of BYD\n",
    "CZR = flat_df[flat_df['Ticker'] =='CZR']"
   ]
  },
  {
   "cell_type": "code",
   "execution_count": 70,
   "id": "df607712",
   "metadata": {},
   "outputs": [],
   "source": [
    "CZR_start = CZR['Date'].min()\n",
    "CZR_end = CZR['Date'].max()"
   ]
  },
  {
   "cell_type": "code",
   "execution_count": 71,
   "id": "5c882c49",
   "metadata": {},
   "outputs": [],
   "source": [
    "CZR_min = CZR.loc[CZR['Date'] == CZR_start, 'Close'].values[0]\n",
    "CZR_max = CZR.loc[CZR['Date']== CZR_end,'Close'].values[0]"
   ]
  },
  {
   "cell_type": "code",
   "execution_count": 72,
   "id": "239ad087",
   "metadata": {},
   "outputs": [
    {
     "data": {
      "text/plain": [
       "(4.039999961853027, 27.56999969482422)"
      ]
     },
     "execution_count": 72,
     "metadata": {},
     "output_type": "execute_result"
    }
   ],
   "source": [
    "CZR_min,CZR_max"
   ]
  },
  {
   "cell_type": "code",
   "execution_count": 73,
   "id": "eb2d8559",
   "metadata": {},
   "outputs": [
    {
     "name": "stdout",
     "output_type": "stream",
     "text": [
      "The Nominal growth in USD was $23.53\n"
     ]
    }
   ],
   "source": [
    "CZR_Growth_Nominal = CZR_max-CZR_min\n",
    "print(f'The Nominal growth in USD was ${CZR_Growth_Nominal:,.2f}')"
   ]
  },
  {
   "cell_type": "code",
   "execution_count": 74,
   "id": "afb7f99a",
   "metadata": {},
   "outputs": [
    {
     "data": {
      "text/plain": [
       "390.136410837234"
      ]
     },
     "execution_count": 74,
     "metadata": {},
     "output_type": "execute_result"
    }
   ],
   "source": [
    "## Percent Growth\n",
    "CZR_Growth_Percent = (CZR_max-BYD_min)/CZR_min\n",
    "CZR_Growth_Percent*100"
   ]
  },
  {
   "cell_type": "code",
   "execution_count": 75,
   "id": "57e5a34e",
   "metadata": {},
   "outputs": [],
   "source": [
    "growth_list = []\n",
    "\n",
    "for ticker in tickers:\n",
    "    df_t = flat_df[flat_df['Ticker'] == ticker].sort_values('Date')\n",
    "    \n",
    "    if len(df_t) < 2:\n",
    "        continue  # skip if there's not enough data\n",
    "    \n",
    "    start_price = df_t.iloc[0]['Close']\n",
    "    end_price = df_t.iloc[-1]['Close']\n",
    "    \n",
    "    nominal_growth = end_price - start_price\n",
    "    percent_growth = (end_price / start_price - 1) * 100\n",
    "    \n",
    "    growth_list.append({\n",
    "        'Ticker': ticker,\n",
    "        'StartDate': df_t.iloc[0]['Date'],\n",
    "        'EndDate': df_t.iloc[-1]['Date'],\n",
    "        'StartPrice': start_price,\n",
    "        'EndPrice': end_price,\n",
    "        'NominalGrowth': nominal_growth,\n",
    "        'PercentGrowth': percent_growth\n",
    "    })\n",
    "\n",
    "growth_df = pd.DataFrame(growth_list)"
   ]
  },
  {
   "cell_type": "code",
   "execution_count": 76,
   "id": "7dbb00d1",
   "metadata": {},
   "outputs": [
    {
     "data": {
      "text/html": [
       "<div>\n",
       "<style scoped>\n",
       "    .dataframe tbody tr th:only-of-type {\n",
       "        vertical-align: middle;\n",
       "    }\n",
       "\n",
       "    .dataframe tbody tr th {\n",
       "        vertical-align: top;\n",
       "    }\n",
       "\n",
       "    .dataframe thead th {\n",
       "        text-align: right;\n",
       "    }\n",
       "</style>\n",
       "<table border=\"1\" class=\"dataframe\">\n",
       "  <thead>\n",
       "    <tr style=\"text-align: right;\">\n",
       "      <th></th>\n",
       "      <th>Ticker</th>\n",
       "      <th>StartDate</th>\n",
       "      <th>EndDate</th>\n",
       "      <th>StartPrice</th>\n",
       "      <th>EndPrice</th>\n",
       "      <th>NominalGrowth</th>\n",
       "      <th>PercentGrowth</th>\n",
       "    </tr>\n",
       "  </thead>\n",
       "  <tbody>\n",
       "    <tr>\n",
       "      <th>0</th>\n",
       "      <td>MGM</td>\n",
       "      <td>2015-01-02</td>\n",
       "      <td>2025-04-09</td>\n",
       "      <td>19.853609</td>\n",
       "      <td>29.930000</td>\n",
       "      <td>10.076391</td>\n",
       "      <td>50.753448</td>\n",
       "    </tr>\n",
       "    <tr>\n",
       "      <th>1</th>\n",
       "      <td>CZR</td>\n",
       "      <td>2015-01-02</td>\n",
       "      <td>2025-04-09</td>\n",
       "      <td>4.040000</td>\n",
       "      <td>27.570000</td>\n",
       "      <td>23.530000</td>\n",
       "      <td>582.425741</td>\n",
       "    </tr>\n",
       "    <tr>\n",
       "      <th>2</th>\n",
       "      <td>WYNN</td>\n",
       "      <td>2015-01-02</td>\n",
       "      <td>2025-04-09</td>\n",
       "      <td>126.880692</td>\n",
       "      <td>75.830002</td>\n",
       "      <td>-51.050690</td>\n",
       "      <td>-40.235192</td>\n",
       "    </tr>\n",
       "    <tr>\n",
       "      <th>3</th>\n",
       "      <td>PENN</td>\n",
       "      <td>2015-01-02</td>\n",
       "      <td>2025-04-09</td>\n",
       "      <td>13.480000</td>\n",
       "      <td>16.280001</td>\n",
       "      <td>2.800001</td>\n",
       "      <td>20.771523</td>\n",
       "    </tr>\n",
       "    <tr>\n",
       "      <th>4</th>\n",
       "      <td>BYD</td>\n",
       "      <td>2015-01-02</td>\n",
       "      <td>2025-04-09</td>\n",
       "      <td>11.808489</td>\n",
       "      <td>67.550003</td>\n",
       "      <td>55.741514</td>\n",
       "      <td>472.046127</td>\n",
       "    </tr>\n",
       "  </tbody>\n",
       "</table>\n",
       "</div>"
      ],
      "text/plain": [
       "  Ticker  StartDate    EndDate  StartPrice   EndPrice  NominalGrowth  \\\n",
       "0    MGM 2015-01-02 2025-04-09   19.853609  29.930000      10.076391   \n",
       "1    CZR 2015-01-02 2025-04-09    4.040000  27.570000      23.530000   \n",
       "2   WYNN 2015-01-02 2025-04-09  126.880692  75.830002     -51.050690   \n",
       "3   PENN 2015-01-02 2025-04-09   13.480000  16.280001       2.800001   \n",
       "4    BYD 2015-01-02 2025-04-09   11.808489  67.550003      55.741514   \n",
       "\n",
       "   PercentGrowth  \n",
       "0      50.753448  \n",
       "1     582.425741  \n",
       "2     -40.235192  \n",
       "3      20.771523  \n",
       "4     472.046127  "
      ]
     },
     "execution_count": 76,
     "metadata": {},
     "output_type": "execute_result"
    }
   ],
   "source": [
    "## Dataset with percent and nominal Growth\n",
    "growth_df"
   ]
  },
  {
   "cell_type": "code",
   "execution_count": 77,
   "id": "0800ce24",
   "metadata": {},
   "outputs": [
    {
     "data": {
      "text/plain": [
       "1    582.425741\n",
       "4    472.046127\n",
       "0     50.753448\n",
       "3     20.771523\n",
       "2    -40.235192\n",
       "Name: PercentGrowth, dtype: float64"
      ]
     },
     "execution_count": 77,
     "metadata": {},
     "output_type": "execute_result"
    }
   ],
   "source": [
    "growth_df['PercentGrowth'].sort_values(ascending=False)"
   ]
  },
  {
   "cell_type": "code",
   "execution_count": 78,
   "id": "e464a9fd",
   "metadata": {},
   "outputs": [],
   "source": [
    "growth_df_sorted = growth_df.sort_values('PercentGrowth', ascending=False)"
   ]
  },
  {
   "cell_type": "code",
   "execution_count": 79,
   "id": "eef7a566",
   "metadata": {},
   "outputs": [
    {
     "data": {
      "text/html": [
       "<div>\n",
       "<style scoped>\n",
       "    .dataframe tbody tr th:only-of-type {\n",
       "        vertical-align: middle;\n",
       "    }\n",
       "\n",
       "    .dataframe tbody tr th {\n",
       "        vertical-align: top;\n",
       "    }\n",
       "\n",
       "    .dataframe thead th {\n",
       "        text-align: right;\n",
       "    }\n",
       "</style>\n",
       "<table border=\"1\" class=\"dataframe\">\n",
       "  <thead>\n",
       "    <tr style=\"text-align: right;\">\n",
       "      <th></th>\n",
       "      <th>Ticker</th>\n",
       "      <th>PercentGrowth</th>\n",
       "    </tr>\n",
       "  </thead>\n",
       "  <tbody>\n",
       "    <tr>\n",
       "      <th>1</th>\n",
       "      <td>CZR</td>\n",
       "      <td>582.425741</td>\n",
       "    </tr>\n",
       "    <tr>\n",
       "      <th>4</th>\n",
       "      <td>BYD</td>\n",
       "      <td>472.046127</td>\n",
       "    </tr>\n",
       "    <tr>\n",
       "      <th>0</th>\n",
       "      <td>MGM</td>\n",
       "      <td>50.753448</td>\n",
       "    </tr>\n",
       "    <tr>\n",
       "      <th>3</th>\n",
       "      <td>PENN</td>\n",
       "      <td>20.771523</td>\n",
       "    </tr>\n",
       "    <tr>\n",
       "      <th>2</th>\n",
       "      <td>WYNN</td>\n",
       "      <td>-40.235192</td>\n",
       "    </tr>\n",
       "  </tbody>\n",
       "</table>\n",
       "</div>"
      ],
      "text/plain": [
       "  Ticker  PercentGrowth\n",
       "1    CZR     582.425741\n",
       "4    BYD     472.046127\n",
       "0    MGM      50.753448\n",
       "3   PENN      20.771523\n",
       "2   WYNN     -40.235192"
      ]
     },
     "execution_count": 79,
     "metadata": {},
     "output_type": "execute_result"
    }
   ],
   "source": [
    "## Top Percent Growth\n",
    "growth_df_sorted[['Ticker', 'PercentGrowth']].head()"
   ]
  },
  {
   "cell_type": "code",
   "execution_count": 80,
   "id": "54eb7a6c",
   "metadata": {},
   "outputs": [],
   "source": [
    "growth_df_sorted_percent = growth_df.sort_values('NominalGrowth', ascending=False)"
   ]
  },
  {
   "cell_type": "code",
   "execution_count": 81,
   "id": "39312ffd",
   "metadata": {},
   "outputs": [
    {
     "data": {
      "text/html": [
       "<div>\n",
       "<style scoped>\n",
       "    .dataframe tbody tr th:only-of-type {\n",
       "        vertical-align: middle;\n",
       "    }\n",
       "\n",
       "    .dataframe tbody tr th {\n",
       "        vertical-align: top;\n",
       "    }\n",
       "\n",
       "    .dataframe thead th {\n",
       "        text-align: right;\n",
       "    }\n",
       "</style>\n",
       "<table border=\"1\" class=\"dataframe\">\n",
       "  <thead>\n",
       "    <tr style=\"text-align: right;\">\n",
       "      <th></th>\n",
       "      <th>Ticker</th>\n",
       "      <th>NominalGrowth</th>\n",
       "    </tr>\n",
       "  </thead>\n",
       "  <tbody>\n",
       "    <tr>\n",
       "      <th>4</th>\n",
       "      <td>BYD</td>\n",
       "      <td>55.741514</td>\n",
       "    </tr>\n",
       "    <tr>\n",
       "      <th>1</th>\n",
       "      <td>CZR</td>\n",
       "      <td>23.530000</td>\n",
       "    </tr>\n",
       "    <tr>\n",
       "      <th>0</th>\n",
       "      <td>MGM</td>\n",
       "      <td>10.076391</td>\n",
       "    </tr>\n",
       "    <tr>\n",
       "      <th>3</th>\n",
       "      <td>PENN</td>\n",
       "      <td>2.800001</td>\n",
       "    </tr>\n",
       "    <tr>\n",
       "      <th>2</th>\n",
       "      <td>WYNN</td>\n",
       "      <td>-51.050690</td>\n",
       "    </tr>\n",
       "  </tbody>\n",
       "</table>\n",
       "</div>"
      ],
      "text/plain": [
       "  Ticker  NominalGrowth\n",
       "4    BYD      55.741514\n",
       "1    CZR      23.530000\n",
       "0    MGM      10.076391\n",
       "3   PENN       2.800001\n",
       "2   WYNN     -51.050690"
      ]
     },
     "execution_count": 81,
     "metadata": {},
     "output_type": "execute_result"
    }
   ],
   "source": [
    "## Top by Nominal Growth\n",
    "growth_df_sorted_percent[['Ticker', 'NominalGrowth']].head()"
   ]
  },
  {
   "cell_type": "markdown",
   "id": "f1d18f42",
   "metadata": {},
   "source": [
    "## WYNN has not done too well since 2015 to today. On the other hand, Caesars and Boyd have done consdierably better."
   ]
  },
  {
   "cell_type": "markdown",
   "id": "4d1ab4a5",
   "metadata": {},
   "source": [
    "## MGM is the middle of the pack, the indexed analysis above suggests that Caesars experienced growth over the 2021, 2022 period, more than any other Gaming Company"
   ]
  },
  {
   "cell_type": "code",
   "execution_count": 82,
   "id": "cf54fdf5",
   "metadata": {},
   "outputs": [],
   "source": [
    "## Futher Exploration Incoming"
   ]
  }
 ],
 "metadata": {
  "kernelspec": {
   "display_name": "Python 3 (ipykernel)",
   "language": "python",
   "name": "python3"
  },
  "language_info": {
   "codemirror_mode": {
    "name": "ipython",
    "version": 3
   },
   "file_extension": ".py",
   "mimetype": "text/x-python",
   "name": "python",
   "nbconvert_exporter": "python",
   "pygments_lexer": "ipython3",
   "version": "3.11.5"
  }
 },
 "nbformat": 4,
 "nbformat_minor": 5
}
